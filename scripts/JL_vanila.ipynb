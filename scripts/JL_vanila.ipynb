{
 "cells": [
  {
   "attachments": {},
   "cell_type": "markdown",
   "metadata": {},
   "source": [
    "For any $0 < \\epsilon < 1$ and any $n$ points in a high-dimensional space, there exists a linear map $f$ from the high-dimensional space to a low-dimensional space of dimension $d = O\\left(\\frac{\\log n}{\\epsilon^2}\\right)$ such that for all pairs of points $p$ and $q$:\n",
    "\n",
    "$$(1 - \\epsilon) \\|p - q\\|^2 \\leq \\|f(p) - f(q)\\|^2 \\leq (1 + \\epsilon) \\|p - q\\|^2$$\n",
    "\n",
    "where $\\|\\cdot\\|$ denotes the Euclidean norm. This means that the distances between the points are approximately preserved in the low-dimensional space, up to a factor of $(1 \\pm \\epsilon)$.\n"
   ]
  },
  {
   "cell_type": "markdown",
   "metadata": {},
   "source": [
    "\n",
    "\n",
    "Here is some example code that ChatGPT gave to me, you can use it as a refrence, or make it work for the **Task 1** in TODO.\n",
    "\n",
    "## TODO HERE: \n",
    "1. **(DONE)** First thing that should be done here, is taking all the data from the dataset in the form of `.jpg` files, and transforming it into the `numpy.array` of the shape $(N_{data}, 256,\\ 256,\\ 3)$ and further into the shape $(N_{data}, 256 \\cdot 256 \\cdot 3)$\n"
   ]
  },
  {
   "cell_type": "code",
   "execution_count": 3,
   "metadata": {},
   "outputs": [
    {
     "name": "stdout",
     "output_type": "stream",
     "text": [
      "../dataset/inputs_resized/flowers/daisy\n",
      "../dataset/inputs_resized/flowers/rose\n",
      "../dataset/inputs_resized/flowers/tulip\n",
      "../dataset/inputs_resized/flowers/dandelion\n",
      "../dataset/inputs_resized/flowers/sunflower\n",
      "(4317, 196608)\n"
     ]
    }
   ],
   "source": [
    "# Presumably solving TODO 1\n",
    "\n",
    "import os\n",
    "import numpy as np\n",
    "from PIL import Image\n",
    "\n",
    "# Set the path to the data folders\n",
    "input_folder = '../dataset/inputs_resized/flowers/'\n",
    "\n",
    "# Set the size of the images\n",
    "img_size = (256, 256)\n",
    "\n",
    "# Load the images into a NumPy array\n",
    "data = []\n",
    "for category in os.listdir(input_folder):\n",
    "    category_path = os.path.join(input_folder, category)\n",
    "    print(category_path)\n",
    "    for file in os.listdir(category_path):\n",
    "        if file.endswith('.jpg'):\n",
    "            img = Image.open(os.path.join(category_path, file)).resize(img_size)\n",
    "            data.append(np.array(img))\n",
    "\n",
    "data = np.array(data)\n",
    "\n",
    "# Reshape the data into the desired shape\n",
    "data = data.reshape(data.shape[0], -1)\n",
    "\n",
    "print(data.shape)  # Output: (N_data, 196608)\n"
   ]
  },
  {
   "cell_type": "code",
   "execution_count": 138,
   "metadata": {},
   "outputs": [
    {
     "name": "stdout",
     "output_type": "stream",
     "text": [
      "Minimum number of dimensions required: 7174\n",
      "Mean relative error: nan\n"
     ]
    }
   ],
   "source": [
    "import numpy as np\n",
    "from sklearn.random_projection import johnson_lindenstrauss_min_dim, GaussianRandomProjection\n",
    "\n",
    "# Compute the minimum number of dimensions required to preserve pairwise distances\n",
    "eps = 0.1\n",
    "n_samples, n_features = data.shape\n",
    "n_components = johnson_lindenstrauss_min_dim(n_samples, eps=eps)\n",
    "\n",
    "print(f\"Minimum number of dimensions required: {n_components}\")\n",
    "\n",
    "# Project the data onto a lower-dimensional space using random projection\n",
    "rp = GaussianRandomProjection(n_components=n_components, random_state=42)\n",
    "data_rp = rp.fit_transform(data)\n",
    "\n",
    "# Compute the pairwise distances between the original and projected data\n",
    "dist_orig = np.zeros((n_samples, n_samples))\n",
    "for i in range(n_samples):\n",
    "    for j in range(i + 1, n_samples):\n",
    "        dist_orig[i, j] = np.linalg.norm(data[i] - data[j])\n",
    "        dist_orig[j, i] = dist_orig[i, j]\n",
    "\n",
    "dist_rp = np.zeros((n_samples, n_samples))\n",
    "for i in range(n_samples):\n",
    "    for j in range(i + 1, n_samples):\n",
    "        dist_rp[i, j] = np.linalg.norm(data_rp[i] - data_rp[j])\n",
    "        dist_rp[j, i] = dist_rp[i, j]\n",
    "\n",
    "# Compute the mean relative error between the pairwise distances of the original and projected data\n",
    "# We can also look at the distribution of this error as a funciton of \n",
    "# N_reduced and epsilon, that may be interesting\n",
    "mean_rel_error = np.mean(np.abs(dist_orig - dist_rp) / dist_orig)\n",
    "print(f\"Mean relative error: {mean_rel_error}\")\n"
   ]
  },
  {
   "cell_type": "code",
   "execution_count": 132,
   "metadata": {},
   "outputs": [
    {
     "data": {
      "text/plain": [
       "(400, 4096)"
      ]
     },
     "execution_count": 132,
     "metadata": {},
     "output_type": "execute_result"
    }
   ],
   "source": [
    "data.shape"
   ]
  },
  {
   "cell_type": "markdown",
   "metadata": {},
   "source": []
  }
 ],
 "metadata": {
  "kernelspec": {
   "display_name": "Python 3 (ipykernel)",
   "language": "python",
   "name": "python3"
  },
  "language_info": {
   "codemirror_mode": {
    "name": "ipython",
    "version": 3
   },
   "file_extension": ".py",
   "mimetype": "text/x-python",
   "name": "python",
   "nbconvert_exporter": "python",
   "pygments_lexer": "ipython3",
   "version": "3.9.6"
  },
  "orig_nbformat": 4
 },
 "nbformat": 4,
 "nbformat_minor": 2
}
