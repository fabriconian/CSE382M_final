{
 "cells": [
  {
   "cell_type": "code",
   "execution_count": null,
   "metadata": {},
   "outputs": [
    {
     "ename": "",
     "evalue": "",
     "output_type": "error",
     "traceback": [
      "\u001b[1;31mFailed to start the Kernel. \n",
      "\u001b[1;31mUnhandled error. \n",
      "\u001b[1;31mView Jupyter <a href='command:jupyter.viewOutput'>log</a> for further details."
     ]
    }
   ],
   "source": [
    "import numpy as np\n",
    "import pandas as pd\n",
    "from PIL import Image\n",
    "import os\n",
    "\n",
    "class DimReductionEvaluation:\n",
    "    def __init__(self, data=None):\n",
    "        # data in the form of a pandas dataframe with the following columns:\n",
    "        #     - image: the image file\n",
    "        #     - label: the label of the image\n",
    "        self.data = data\n",
    "        \n",
    "    def get_data_from_folder(self, folder_path, image_sise):\n",
    "        # specify the shape of the resized image\n",
    "        shape = (image_sise, image_sise)  \n",
    "\n",
    "        self.image_size = image_sise\n",
    "        self.image_shape = shape\n",
    "        # Create an empty dictionary to store the data\n",
    "        data = {'image': [], 'label': []}\n",
    "\n",
    "        # loop through each category folder\n",
    "        for category in os.listdir(folder_path):\n",
    "            category_path = os.path.join(folder_path, category)\n",
    "            if os.path.isdir(category_path):\n",
    "                # loop through each image file in the category folder\n",
    "                for file in os.listdir(category_path):\n",
    "                    file_path = os.path.join(category_path, file)\n",
    "                    if os.path.isfile(file_path):\n",
    "                        # open the image file and resize it\n",
    "                        with Image.open(file_path) as image:\n",
    "                            label = category\n",
    "                            # Add the image and label to the dictionary\n",
    "                            data['image'].append(image)\n",
    "                            data['label'].append(label)\n",
    "        # Convert the dictionary to a pandas dataframe\n",
    "        self.data = pd.DataFrame(data)\n",
    "        "
   ]
  },
  {
   "cell_type": "code",
   "execution_count": null,
   "metadata": {},
   "outputs": [],
   "source": [
    "\n",
    "# Set the path to the folder containing the image data\n",
    "data_path = '../dataset/input_resized/flowers/'\n",
    "\n",
    "# Create an instance of the DimReductionEvaluation class\n",
    "dre = DimReductionEvaluation()\n",
    "dre.data = dre.get_data_from_folder(data_path, 256)"
   ]
  },
  {
   "cell_type": "code",
   "execution_count": null,
   "metadata": {},
   "outputs": [],
   "source": []
  }
 ],
 "metadata": {
  "kernelspec": {
   "display_name": "drone-venv",
   "language": "python",
   "name": "drone-venv"
  },
  "orig_nbformat": 4
 },
 "nbformat": 4,
 "nbformat_minor": 2
}
