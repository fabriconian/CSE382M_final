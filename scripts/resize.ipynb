{
 "cells": [
  {
   "attachments": {},
   "cell_type": "markdown",
   "metadata": {},
   "source": [
    "This script makes all images in the dataset the same prescribed size "
   ]
  },
  {
   "cell_type": "code",
   "execution_count": 2,
   "metadata": {},
   "outputs": [],
   "source": [
    "from PIL import Image\n",
    "import os\n",
    "\n",
    "input_folder = '../dataset/input/flowers'\n",
    "output_folder = '../dataset/input_resized/flowers'\n",
    "\n",
    "size = (256, 256)  # specify the size you want\n",
    "\n",
    "# loop through each category folder\n",
    "for category in os.listdir(input_folder):\n",
    "    category_path = os.path.join(input_folder, category)\n",
    "    if os.path.isdir(category_path):\n",
    "        # loop through each image file in the category folder\n",
    "        for file in os.listdir(category_path):\n",
    "            file_path = os.path.join(category_path, file)\n",
    "            if os.path.isfile(file_path):\n",
    "                # open the image file and resize it\n",
    "                with Image.open(file_path) as image:\n",
    "                    resized_image = image.resize(size)\n",
    "                    # save the resized image to the output folder\n",
    "                    output_path = os.path.join(output_folder, category)\n",
    "                    os.makedirs(output_path, exist_ok=True)\n",
    "                    output_file_path = os.path.join(output_path, file)\n",
    "                    resized_image.save(output_file_path)\n"
   ]
  },
  {
   "cell_type": "code",
   "execution_count": null,
   "metadata": {},
   "outputs": [],
   "source": []
  }
 ],
 "metadata": {
  "kernelspec": {
   "display_name": "Python 3 (ipykernel)",
   "language": "python",
   "name": "python3"
  },
  "language_info": {
   "codemirror_mode": {
    "name": "ipython",
    "version": 3
   },
   "file_extension": ".py",
   "mimetype": "text/x-python",
   "name": "python",
   "nbconvert_exporter": "python",
   "pygments_lexer": "ipython3",
   "version": "3.9.6"
  },
  "orig_nbformat": 4
 },
 "nbformat": 4,
 "nbformat_minor": 2
}
