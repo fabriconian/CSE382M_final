{
 "cells": [
  {
   "cell_type": "code",
   "execution_count": 2,
   "metadata": {},
   "outputs": [],
   "source": [
    "import numpy as np\n",
    "from utils import *\n",
    "from keras import callbacks\n",
    "import tensorflow as tf\n",
    "import time\n",
    "from tqdm import tqdm"
   ]
  },
  {
   "cell_type": "code",
   "execution_count": 3,
   "metadata": {},
   "outputs": [],
   "source": [
    "IMG_SIZE=32\n",
    "\n",
    "# Set the path to the folder containing the image data\n",
    "data_path = '../dataset/input_resized_256/flowers/'\n",
    "\n",
    "# Create an instance of the DimReductionEvaluation class\n",
    "dre = DimReductionEvaluation()\n",
    "dre.load_data(data_path, IMG_SIZE)"
   ]
  },
  {
   "attachments": {},
   "cell_type": "markdown",
   "metadata": {},
   "source": [
    "## Visualizeing Neural Networks"
   ]
  },
  {
   "cell_type": "code",
   "execution_count": 11,
   "metadata": {},
   "outputs": [
    {
     "name": "stdout",
     "output_type": "stream",
     "text": [
      "Model: \"sequential_200\"\n",
      "_________________________________________________________________\n",
      " Layer (type)                Output Shape              Param #   \n",
      "=================================================================\n",
      " conv2d_500 (Conv2D)         (None, 32, 32, 16)        448       \n",
      "                                                                 \n",
      " max_pooling2d_200 (MaxPooli  (None, 16, 16, 16)       0         \n",
      " ng2D)                                                           \n",
      "                                                                 \n",
      " batch_normalization_1000 (B  (None, 16, 16, 16)       64        \n",
      " atchNormalization)                                              \n",
      "                                                                 \n",
      " conv2d_501 (Conv2D)         (None, 16, 16, 32)        4640      \n",
      "                                                                 \n",
      " max_pooling2d_201 (MaxPooli  (None, 8, 8, 32)         0         \n",
      " ng2D)                                                           \n",
      "                                                                 \n",
      " batch_normalization_1001 (B  (None, 8, 8, 32)         128       \n",
      " atchNormalization)                                              \n",
      "                                                                 \n",
      " flatten_100 (Flatten)       (None, 2048)              0         \n",
      "                                                                 \n",
      " dense_1000 (Dense)          (None, 100)               204900    \n",
      "                                                                 \n",
      "=================================================================\n",
      "Total params: 210,180\n",
      "Trainable params: 210,084\n",
      "Non-trainable params: 96\n",
      "_________________________________________________________________\n"
     ]
    },
    {
     "data": {
      "image/png": "[encoded data removed]",
      "text/plain": [
       "<PIL.Image.Image image mode=RGBA size=460x233>"
      ]
     },
     "execution_count": 11,
     "metadata": {},
     "output_type": "execute_result"
    }
   ],
   "source": [
    "\n",
    "\n",
    "batch_size=32\n",
    "dae_cnn=DAE_CNN(batch_size=batch_size,\n",
    "                 input_shape=(IMG_SIZE, IMG_SIZE, 3),latent_dim=100)\n",
    "\n",
    "dae=DAE(batch_size=batch_size,\n",
    "                 input_dim=IMG_SIZE*IMG_SIZE*3, latent_dim=100)\n",
    "\n",
    "dae_cnn.encoder.summary()\n",
    "import visualkeras\n",
    "from PIL import ImageFont\n",
    "visualkeras.layered_view(dae_cnn.encoder, legend=True)\n",
    "\n"
   ]
  },
  {
   "cell_type": "code",
   "execution_count": 84,
   "metadata": {},
   "outputs": [
    {
     "name": "stdout",
     "output_type": "stream",
     "text": [
      "Model: \"model_91\"\n",
      "_________________________________________________________________\n",
      " Layer (type)                Output Shape              Param #   \n",
      "=================================================================\n",
      " input_86 (InputLayer)       [(None, 3072)]            0         \n",
      "                                                                 \n",
      " dense_210 (Dense)           (None, 1536)              4720128   \n",
      "                                                                 \n",
      " batch_normalization_503 (Ba  (None, 1536)             6144      \n",
      " tchNormalization)                                               \n",
      "                                                                 \n",
      " activation_42 (Activation)  (None, 1536)              0         \n",
      "                                                                 \n",
      " dense_211 (Dense)           (None, 768)               1180416   \n",
      "                                                                 \n",
      " batch_normalization_504 (Ba  (None, 768)              3072      \n",
      " tchNormalization)                                               \n",
      "                                                                 \n",
      " activation_43 (Activation)  (None, 768)               0         \n",
      "                                                                 \n",
      " dense_212 (Dense)           (None, 384)               295296    \n",
      "                                                                 \n",
      " batch_normalization_505 (Ba  (None, 384)              1536      \n",
      " tchNormalization)                                               \n",
      "                                                                 \n",
      " activation_44 (Activation)  (None, 384)               0         \n",
      "                                                                 \n",
      " dense_213 (Dense)           (None, 100)               38500     \n",
      "                                                                 \n",
      "=================================================================\n",
      "Total params: 6,245,092\n",
      "Trainable params: 6,239,716\n",
      "Non-trainable params: 5,376\n",
      "_________________________________________________________________\n"
     ]
    },
    {
     "data": {
      "image/png": "[encoded data removed]",
      "text/plain": [
       "<PIL.Image.Image image mode=RGBA size=1261x63>"
      ]
     },
     "execution_count": 84,
     "metadata": {},
     "output_type": "execute_result"
    }
   ],
   "source": [
    "dae.encoder.summary()\n",
    "import visualkeras\n",
    "from PIL import ImageFont\n",
    "visualkeras.layered_view(dae.encoder, legend=True)\n"
   ]
  },
  {
   "cell_type": "code",
   "execution_count": 85,
   "metadata": {},
   "outputs": [
    {
     "data": {
      "text/plain": [
       "(3885, 3072)"
      ]
     },
     "execution_count": 85,
     "metadata": {},
     "output_type": "execute_result"
    }
   ],
   "source": [
    "x_train, x_test, y_train, y_test = dre.split_data(dre.X, dre.Y, test_size=0.1)\n",
    "x_train_flat=x_train.reshape(x_train.shape[0], -1)\n",
    "x_test_flat=x_test.reshape(x_test.shape[0], -1)\n",
    "x_train_flat.shape"
   ]
  },
  {
   "cell_type": "code",
   "execution_count": 100,
   "metadata": {},
   "outputs": [
    {
     "name": "stdout",
     "output_type": "stream",
     "text": [
      "Epoch 1/100\n",
      "122/122 [==============================] - 4s 32ms/step - loss: 0.2921 - val_loss: 0.2893\n",
      "Epoch 2/100\n",
      "122/122 [==============================] - 3s 27ms/step - loss: 0.2919 - val_loss: 0.2879\n",
      "Epoch 3/100\n",
      "122/122 [==============================] - 3s 25ms/step - loss: 0.2918 - val_loss: 0.2880\n",
      "Epoch 4/100\n",
      "122/122 [==============================] - 3s 25ms/step - loss: 0.2912 - val_loss: 0.2883\n",
      "Epoch 5/100\n",
      "122/122 [==============================] - 3s 23ms/step - loss: 0.2913 - val_loss: 0.2866\n",
      "Epoch 6/100\n",
      "122/122 [==============================] - 3s 24ms/step - loss: 0.2905 - val_loss: 0.2871\n",
      "Epoch 7/100\n",
      "122/122 [==============================] - 3s 25ms/step - loss: 0.2904 - val_loss: 0.2863\n",
      "Epoch 8/100\n",
      "122/122 [==============================] - 3s 23ms/step - loss: 0.2902 - val_loss: 0.2874\n",
      "Epoch 9/100\n",
      "122/122 [==============================] - 3s 24ms/step - loss: 0.2898 - val_loss: 0.2856\n",
      "Epoch 10/100\n",
      "122/122 [==============================] - 3s 23ms/step - loss: 0.2891 - val_loss: 0.2852\n",
      "Epoch 11/100\n",
      "122/122 [==============================] - 3s 24ms/step - loss: 0.2888 - val_loss: 0.2848\n"
     ]
    }
   ],
   "source": [
    "History=dae.fit(x_train_flat, y_train, epochs=100, verbose=1)\n",
    "# History=dae.autoencoder.fit(\n",
    "#             x_train_flat,\n",
    "#             x_train_flat,\n",
    "#             epochs=100,\n",
    "#             batch_size=dae.batch_size,\n",
    "#             validation_data=(x_test_flat, x_test_flat),\n",
    "#             verbose=1,\n",
    "#             callbacks=[\n",
    "#                 callbacks.EarlyStopping(\n",
    "#                     monitor='val_loss',\n",
    "#                     min_delta=0.01,\n",
    "#                     patience=10,\n",
    "#                     restore_best_weights=True)]\n",
    "#             )"
   ]
  },
  {
   "cell_type": "code",
   "execution_count": 104,
   "metadata": {},
   "outputs": [
    {
     "name": "stderr",
     "output_type": "stream",
     "text": [
      "  0%|          | 0/3 [00:00<?, ?it/s]"
     ]
    },
    {
     "name": "stdout",
     "output_type": "stream",
     "text": [
      "Epoch 1/150\n",
      "122/122 [==============================] - 7s 45ms/step - loss: 0.4870 - val_loss: 0.3487\n",
      "Epoch 2/150\n",
      "122/122 [==============================] - 2s 20ms/step - loss: 0.3415 - val_loss: 0.3215\n",
      "Epoch 3/150\n",
      "122/122 [==============================] - 2s 19ms/step - loss: 0.3341 - val_loss: 0.3083\n",
      "Epoch 4/150\n",
      "122/122 [==============================] - 2s 19ms/step - loss: 0.3212 - val_loss: 0.3029\n",
      "Epoch 5/150\n",
      "122/122 [==============================] - 2s 19ms/step - loss: 0.3179 - val_loss: 0.2991\n",
      "Epoch 6/150\n",
      "122/122 [==============================] - 2s 19ms/step - loss: 0.3167 - val_loss: 0.3042\n",
      "Epoch 7/150\n",
      "122/122 [==============================] - 2s 18ms/step - loss: 0.3161 - val_loss: 0.2985\n",
      "Epoch 8/150\n",
      "122/122 [==============================] - 2s 18ms/step - loss: 0.3145 - val_loss: 0.2979\n",
      "Epoch 9/150\n",
      "122/122 [==============================] - 2s 18ms/step - loss: 0.3134 - val_loss: 0.2963\n",
      "Epoch 10/150\n",
      "122/122 [==============================] - 2s 18ms/step - loss: 0.3128 - val_loss: 0.2962\n",
      "Epoch 11/150\n",
      "122/122 [==============================] - 2s 18ms/step - loss: 0.3123 - val_loss: 0.2957\n",
      "Epoch 12/150\n",
      "122/122 [==============================] - 2s 18ms/step - loss: 0.3115 - val_loss: 0.2958\n",
      "Epoch 13/150\n",
      "122/122 [==============================] - 2s 18ms/step - loss: 0.3118 - val_loss: 0.2952\n",
      "Epoch 14/150\n",
      "122/122 [==============================] - 2s 18ms/step - loss: 0.3111 - val_loss: 0.2940\n",
      "Epoch 15/150\n",
      "122/122 [==============================] - 2s 18ms/step - loss: 0.3106 - val_loss: 0.2939\n",
      "Epoch 16/150\n",
      "122/122 [==============================] - 2s 17ms/step - loss: 0.3104 - val_loss: 0.2958\n",
      "Epoch 17/150\n",
      "122/122 [==============================] - 2s 19ms/step - loss: 0.3102 - val_loss: 0.2937\n",
      "Epoch 18/150\n",
      "122/122 [==============================] - 2s 18ms/step - loss: 0.3097 - val_loss: 0.2933\n",
      "Epoch 1/150\n",
      "122/122 [==============================] - 13s 76ms/step - loss: 0.3355 - val_loss: 0.3329\n",
      "Epoch 2/150\n",
      "122/122 [==============================] - 3s 28ms/step - loss: 0.3171 - val_loss: 0.3146\n",
      "Epoch 3/150\n",
      "122/122 [==============================] - 4s 32ms/step - loss: 0.3146 - val_loss: 0.3117\n",
      "Epoch 4/150\n",
      "122/122 [==============================] - 3s 27ms/step - loss: 0.3136 - val_loss: 0.3110\n",
      "Epoch 5/150\n",
      "122/122 [==============================] - 3s 23ms/step - loss: 0.3134 - val_loss: 0.3090\n",
      "Epoch 6/150\n",
      "122/122 [==============================] - 3s 23ms/step - loss: 0.3124 - val_loss: 0.3080\n",
      "Epoch 7/150\n",
      "122/122 [==============================] - 3s 23ms/step - loss: 0.3117 - val_loss: 0.3046\n",
      "Epoch 8/150\n",
      "122/122 [==============================] - 3s 24ms/step - loss: 0.3118 - val_loss: 0.3067\n",
      "Epoch 9/150\n",
      "122/122 [==============================] - 3s 25ms/step - loss: 0.3113 - val_loss: 0.3047\n",
      "Epoch 10/150\n",
      "122/122 [==============================] - 3s 23ms/step - loss: 0.3105 - val_loss: 0.3041\n",
      "Epoch 11/150\n",
      "122/122 [==============================] - 3s 23ms/step - loss: 0.3101 - val_loss: 0.3039\n",
      "Epoch 12/150\n",
      "122/122 [==============================] - 3s 23ms/step - loss: 0.3096 - val_loss: 0.3037\n",
      "Epoch 13/150\n",
      "122/122 [==============================] - 3s 23ms/step - loss: 0.3096 - val_loss: 0.3028\n",
      "Epoch 14/150\n",
      "122/122 [==============================] - 3s 23ms/step - loss: 0.3095 - val_loss: 0.3025\n",
      "Epoch 15/150\n",
      "122/122 [==============================] - 3s 23ms/step - loss: 0.3092 - val_loss: 0.3018\n",
      "Epoch 16/150\n",
      "122/122 [==============================] - 3s 23ms/step - loss: 0.3091 - val_loss: 0.3028\n",
      "Epoch 17/150\n",
      "122/122 [==============================] - 3s 24ms/step - loss: 0.3090 - val_loss: 0.3020\n",
      "122/122 [==============================] - 1s 3ms/step\n"
     ]
    },
    {
     "name": "stderr",
     "output_type": "stream",
     "text": [
      "/Users/visyn/.virtualenvs/hwenv/lib/python3.9/site-packages/sklearn/model_selection/_search.py:305: UserWarning: The total space of parameters 54 is smaller than n_iter=60. Running 54 iterations. For exhaustive searches, use GridSearchCV.\n",
      "  warnings.warn(\n"
     ]
    },
    {
     "name": "stdout",
     "output_type": "stream",
     "text": [
      "14/14 [==============================] - 0s 8ms/step\n",
      "Accuracy:  0.3287037037037037 Time:  105.94603490829468\n",
      "122/122 [==============================] - 1s 4ms/step\n"
     ]
    },
    {
     "name": "stderr",
     "output_type": "stream",
     "text": [
      "/Users/visyn/.virtualenvs/hwenv/lib/python3.9/site-packages/sklearn/model_selection/_search.py:305: UserWarning: The total space of parameters 54 is smaller than n_iter=60. Running 54 iterations. For exhaustive searches, use GridSearchCV.\n",
      "  warnings.warn(\n"
     ]
    },
    {
     "name": "stdout",
     "output_type": "stream",
     "text": [
      "14/14 [==============================] - 0s 15ms/step\n"
     ]
    },
    {
     "name": "stderr",
     "output_type": "stream",
     "text": [
      " 33%|███▎      | 1/3 [01:48<03:37, 108.84s/it]"
     ]
    },
    {
     "name": "stdout",
     "output_type": "stream",
     "text": [
      "Accuracy:  0.3449074074074074\n",
      "Epoch 1/150\n",
      "122/122 [==============================] - 7s 45ms/step - loss: 0.4540 - val_loss: 0.3362\n",
      "Epoch 2/150\n",
      "122/122 [==============================] - 3s 21ms/step - loss: 0.3121 - val_loss: 0.3256\n",
      "Epoch 3/150\n",
      "122/122 [==============================] - 2s 20ms/step - loss: 0.3004 - val_loss: 0.3095\n",
      "Epoch 4/150\n",
      "122/122 [==============================] - 2s 19ms/step - loss: 0.2915 - val_loss: 0.2944\n",
      "Epoch 5/150\n",
      "122/122 [==============================] - 2s 19ms/step - loss: 0.2861 - val_loss: 0.2887\n",
      "Epoch 6/150\n",
      "122/122 [==============================] - 2s 19ms/step - loss: 0.2864 - val_loss: 0.2864\n",
      "Epoch 7/150\n",
      "122/122 [==============================] - 2s 19ms/step - loss: 0.2815 - val_loss: 0.2850\n",
      "Epoch 8/150\n",
      "122/122 [==============================] - 2s 19ms/step - loss: 0.2809 - val_loss: 0.2829\n",
      "Epoch 9/150\n",
      "122/122 [==============================] - 2s 19ms/step - loss: 0.2795 - val_loss: 0.2822\n",
      "Epoch 10/150\n",
      "122/122 [==============================] - 2s 18ms/step - loss: 0.2792 - val_loss: 0.2817\n",
      "Epoch 11/150\n",
      "122/122 [==============================] - 2s 19ms/step - loss: 0.2770 - val_loss: 0.2810\n",
      "Epoch 12/150\n",
      "122/122 [==============================] - 2s 18ms/step - loss: 0.2759 - val_loss: 0.2799\n",
      "Epoch 13/150\n",
      "122/122 [==============================] - 2s 19ms/step - loss: 0.2755 - val_loss: 0.2802\n",
      "Epoch 14/150\n",
      "122/122 [==============================] - 2s 18ms/step - loss: 0.2750 - val_loss: 0.2792\n",
      "Epoch 15/150\n",
      "122/122 [==============================] - 2s 19ms/step - loss: 0.2738 - val_loss: 0.2775\n",
      "Epoch 16/150\n",
      "122/122 [==============================] - 2s 18ms/step - loss: 0.2742 - val_loss: 0.2778\n",
      "Epoch 17/150\n",
      "122/122 [==============================] - 2s 18ms/step - loss: 0.2735 - val_loss: 0.2775\n",
      "Epoch 18/150\n",
      "122/122 [==============================] - 2s 19ms/step - loss: 0.2729 - val_loss: 0.2767\n",
      "Epoch 1/150\n",
      "122/122 [==============================] - 16s 78ms/step - loss: 0.3315 - val_loss: 0.3475\n",
      "Epoch 2/150\n",
      "122/122 [==============================] - 5s 38ms/step - loss: 0.3110 - val_loss: 0.3172\n",
      "Epoch 3/150\n",
      "122/122 [==============================] - 4s 30ms/step - loss: 0.3078 - val_loss: 0.3109\n",
      "Epoch 4/150\n",
      "122/122 [==============================] - 4s 29ms/step - loss: 0.3056 - val_loss: 0.3039\n",
      "Epoch 5/150\n",
      "122/122 [==============================] - 4s 29ms/step - loss: 0.3030 - val_loss: 0.2977\n",
      "Epoch 6/150\n",
      "122/122 [==============================] - 3s 27ms/step - loss: 0.3023 - val_loss: 0.2987\n",
      "Epoch 7/150\n",
      "122/122 [==============================] - 3s 26ms/step - loss: 0.3012 - val_loss: 0.2949\n",
      "Epoch 8/150\n",
      "122/122 [==============================] - 3s 28ms/step - loss: 0.2991 - val_loss: 0.2935\n",
      "Epoch 9/150\n",
      "122/122 [==============================] - 3s 26ms/step - loss: 0.2985 - val_loss: 0.2992\n",
      "Epoch 10/150\n",
      "122/122 [==============================] - 3s 28ms/step - loss: 0.2976 - val_loss: 0.2921\n",
      "Epoch 11/150\n",
      "122/122 [==============================] - 3s 25ms/step - loss: 0.2964 - val_loss: 0.2897\n",
      "Epoch 12/150\n",
      "122/122 [==============================] - 3s 28ms/step - loss: 0.2957 - val_loss: 0.2912\n",
      "Epoch 13/150\n",
      "122/122 [==============================] - 3s 26ms/step - loss: 0.2955 - val_loss: 0.2896\n",
      "Epoch 14/150\n",
      "122/122 [==============================] - 3s 25ms/step - loss: 0.2949 - val_loss: 0.2898\n",
      "Epoch 15/150\n",
      "122/122 [==============================] - 3s 26ms/step - loss: 0.2937 - val_loss: 0.2870\n",
      "Epoch 16/150\n",
      "122/122 [==============================] - 3s 25ms/step - loss: 0.2935 - val_loss: 0.2871\n",
      "Epoch 17/150\n",
      "122/122 [==============================] - 3s 26ms/step - loss: 0.2927 - val_loss: 0.2855\n",
      "Epoch 18/150\n",
      "122/122 [==============================] - 3s 26ms/step - loss: 0.2926 - val_loss: 0.2869\n",
      "122/122 [==============================] - 1s 3ms/step\n"
     ]
    },
    {
     "name": "stderr",
     "output_type": "stream",
     "text": [
      "/Users/visyn/.virtualenvs/hwenv/lib/python3.9/site-packages/sklearn/model_selection/_search.py:305: UserWarning: The total space of parameters 54 is smaller than n_iter=60. Running 54 iterations. For exhaustive searches, use GridSearchCV.\n",
      "  warnings.warn(\n"
     ]
    },
    {
     "name": "stdout",
     "output_type": "stream",
     "text": [
      "14/14 [==============================] - 0s 11ms/step\n",
      "Accuracy:  0.4537037037037037 Time:  119.1641321182251\n",
      "122/122 [==============================] - 1s 4ms/step\n"
     ]
    },
    {
     "name": "stderr",
     "output_type": "stream",
     "text": [
      "/Users/visyn/.virtualenvs/hwenv/lib/python3.9/site-packages/sklearn/model_selection/_search.py:305: UserWarning: The total space of parameters 54 is smaller than n_iter=60. Running 54 iterations. For exhaustive searches, use GridSearchCV.\n",
      "  warnings.warn(\n"
     ]
    },
    {
     "name": "stdout",
     "output_type": "stream",
     "text": [
      "14/14 [==============================] - 0s 15ms/step\n"
     ]
    },
    {
     "name": "stderr",
     "output_type": "stream",
     "text": [
      " 67%|██████▋   | 2/3 [03:52<01:57, 117.62s/it]"
     ]
    },
    {
     "name": "stdout",
     "output_type": "stream",
     "text": [
      "Accuracy:  0.42592592592592593\n",
      "Epoch 1/150\n",
      "122/122 [==============================] - 7s 45ms/step - loss: 0.4514 - val_loss: 0.3379\n",
      "Epoch 2/150\n",
      "122/122 [==============================] - 3s 21ms/step - loss: 0.3144 - val_loss: 0.3392\n",
      "Epoch 3/150\n",
      "122/122 [==============================] - 2s 20ms/step - loss: 0.2981 - val_loss: 0.3251\n",
      "Epoch 4/150\n",
      "122/122 [==============================] - 2s 19ms/step - loss: 0.2915 - val_loss: 0.3058\n",
      "Epoch 5/150\n",
      "122/122 [==============================] - 2s 19ms/step - loss: 0.2894 - val_loss: 0.2958\n",
      "Epoch 6/150\n",
      "122/122 [==============================] - 2s 19ms/step - loss: 0.2834 - val_loss: 0.2938\n",
      "Epoch 7/150\n",
      "122/122 [==============================] - 2s 18ms/step - loss: 0.2818 - val_loss: 0.2911\n",
      "Epoch 8/150\n",
      "122/122 [==============================] - 2s 19ms/step - loss: 0.2807 - val_loss: 0.2874\n",
      "Epoch 9/150\n",
      "122/122 [==============================] - 2s 19ms/step - loss: 0.2794 - val_loss: 0.2864\n",
      "Epoch 10/150\n",
      "122/122 [==============================] - 2s 18ms/step - loss: 0.2777 - val_loss: 0.2865\n",
      "Epoch 11/150\n",
      "122/122 [==============================] - 2s 18ms/step - loss: 0.2759 - val_loss: 0.2844\n",
      "Epoch 12/150\n",
      "122/122 [==============================] - 2s 19ms/step - loss: 0.2751 - val_loss: 0.2837\n",
      "Epoch 13/150\n",
      "122/122 [==============================] - 2s 19ms/step - loss: 0.2755 - val_loss: 0.2826\n",
      "Epoch 14/150\n",
      "122/122 [==============================] - 2s 18ms/step - loss: 0.2741 - val_loss: 0.2820\n",
      "Epoch 15/150\n",
      "122/122 [==============================] - 2s 18ms/step - loss: 0.2734 - val_loss: 0.2816\n",
      "Epoch 16/150\n",
      "122/122 [==============================] - 2s 19ms/step - loss: 0.2726 - val_loss: 0.2813\n",
      "Epoch 17/150\n",
      "122/122 [==============================] - 2s 18ms/step - loss: 0.2722 - val_loss: 0.2810\n",
      "Epoch 18/150\n",
      "122/122 [==============================] - 2s 18ms/step - loss: 0.2715 - val_loss: 0.2795\n",
      "Epoch 19/150\n",
      "122/122 [==============================] - 2s 18ms/step - loss: 0.2714 - val_loss: 0.2791\n",
      "Epoch 20/150\n",
      "122/122 [==============================] - 2s 19ms/step - loss: 0.2709 - val_loss: 0.2793\n",
      "Epoch 21/150\n",
      "122/122 [==============================] - 2s 18ms/step - loss: 0.2713 - val_loss: 0.2793\n",
      "Epoch 1/150\n",
      "122/122 [==============================] - 14s 77ms/step - loss: 0.3330 - val_loss: 0.3641\n",
      "Epoch 2/150\n",
      "122/122 [==============================] - 4s 35ms/step - loss: 0.3112 - val_loss: 0.3362\n",
      "Epoch 3/150\n",
      "122/122 [==============================] - 3s 26ms/step - loss: 0.3082 - val_loss: 0.3264\n",
      "Epoch 4/150\n",
      "122/122 [==============================] - 4s 29ms/step - loss: 0.3053 - val_loss: 0.3177\n",
      "Epoch 5/150\n",
      "122/122 [==============================] - 3s 26ms/step - loss: 0.3035 - val_loss: 0.3116\n",
      "Epoch 6/150\n",
      "122/122 [==============================] - 3s 23ms/step - loss: 0.3023 - val_loss: 0.3106\n",
      "Epoch 7/150\n",
      "122/122 [==============================] - 3s 23ms/step - loss: 0.3009 - val_loss: 0.3073\n",
      "Epoch 8/150\n",
      "122/122 [==============================] - 3s 23ms/step - loss: 0.2999 - val_loss: 0.3082\n",
      "Epoch 9/150\n",
      "122/122 [==============================] - 3s 26ms/step - loss: 0.2990 - val_loss: 0.3055\n",
      "Epoch 10/150\n",
      "122/122 [==============================] - 3s 23ms/step - loss: 0.2984 - val_loss: 0.3034\n",
      "Epoch 11/150\n",
      "122/122 [==============================] - 3s 23ms/step - loss: 0.2971 - val_loss: 0.3013\n",
      "Epoch 12/150\n",
      "122/122 [==============================] - 3s 23ms/step - loss: 0.2964 - val_loss: 0.3018\n",
      "Epoch 13/150\n",
      "122/122 [==============================] - 3s 23ms/step - loss: 0.2951 - val_loss: 0.3013\n",
      "Epoch 14/150\n",
      "122/122 [==============================] - 3s 23ms/step - loss: 0.2954 - val_loss: 0.3006\n",
      "Epoch 15/150\n",
      "122/122 [==============================] - 3s 23ms/step - loss: 0.2945 - val_loss: 0.3003\n",
      "Epoch 16/150\n",
      "122/122 [==============================] - 3s 22ms/step - loss: 0.2945 - val_loss: 0.2990\n",
      "Epoch 17/150\n",
      "122/122 [==============================] - 3s 23ms/step - loss: 0.2936 - val_loss: 0.2983\n",
      "122/122 [==============================] - 0s 3ms/step\n"
     ]
    },
    {
     "name": "stderr",
     "output_type": "stream",
     "text": [
      "/Users/visyn/.virtualenvs/hwenv/lib/python3.9/site-packages/sklearn/model_selection/_search.py:305: UserWarning: The total space of parameters 54 is smaller than n_iter=60. Running 54 iterations. For exhaustive searches, use GridSearchCV.\n",
      "  warnings.warn(\n"
     ]
    },
    {
     "name": "stdout",
     "output_type": "stream",
     "text": [
      "14/14 [==============================] - 0s 14ms/step\n",
      "Accuracy:  0.3958333333333333 Time:  114.54768991470337\n",
      "122/122 [==============================] - 1s 4ms/step\n"
     ]
    },
    {
     "name": "stderr",
     "output_type": "stream",
     "text": [
      "/Users/visyn/.virtualenvs/hwenv/lib/python3.9/site-packages/sklearn/model_selection/_search.py:305: UserWarning: The total space of parameters 54 is smaller than n_iter=60. Running 54 iterations. For exhaustive searches, use GridSearchCV.\n",
      "  warnings.warn(\n"
     ]
    },
    {
     "name": "stdout",
     "output_type": "stream",
     "text": [
      "14/14 [==============================] - 0s 19ms/step\n"
     ]
    },
    {
     "name": "stderr",
     "output_type": "stream",
     "text": [
      "100%|██████████| 3/3 [05:53<00:00, 117.69s/it]"
     ]
    },
    {
     "name": "stdout",
     "output_type": "stream",
     "text": [
      "Accuracy:  0.4537037037037037\n"
     ]
    },
    {
     "name": "stderr",
     "output_type": "stream",
     "text": [
      "\n"
     ]
    }
   ],
   "source": [
    "from sklearn.neighbors import KNeighborsClassifier\n",
    "from sklearn.model_selection import RandomizedSearchCV\n",
    "\n",
    "# Range of K values to test\n",
    "k_range=(np.linspace(0.001, 0.1, 3)*dre.dim).astype(np.int64)\n",
    "batch_size=32\n",
    "\n",
    "# Test the performance of the different dimensionality reduction methods\n",
    "accuracy_DAE_CNN=[]\n",
    "accuracy_DAE=[]\n",
    "time_DAE_CNN=[]\n",
    "\n",
    "x_train, x_test, y_train, y_test = dre.split_data(dre.X, dre.Y, test_size=0.1)\n",
    "x_train_flat=x_train.reshape(x_train.shape[0], -1)\n",
    "x_test_flat=x_test.reshape(x_test.shape[0], -1)\n",
    "\n",
    "# Create a KNN classifier\n",
    "params = {\n",
    "        \"n_neighbors\":\n",
    "        [i for i in range(1, int(np.sqrt(3)*IMG_SIZE))]\n",
    "}\n",
    "\n",
    "random_search = RandomizedSearchCV(\n",
    "    KNeighborsClassifier(),\n",
    "    param_distributions=params,\n",
    "    n_iter=60,\n",
    "    cv=5,\n",
    "    n_jobs=-1)\n",
    "histories=[]\n",
    "\n",
    "# Make 5 runs\n",
    "for i in range(1):\n",
    "\n",
    "    accuracy_DAE_CNN_=[]\n",
    "    time_DAE_CNN_=[]\n",
    "    accuracy_DAE_=[]\n",
    "    time_DAE_=[]\n",
    "\n",
    "    # Split the data into training and test sets\n",
    "    x_train, x_test, y_train, y_test = dre.split_data(dre.X, dre.Y, test_size=0.1)\n",
    "    x_train_flat=x_train.reshape(x_train.shape[0], -1)\n",
    "    x_test_flat=x_test.reshape(x_test.shape[0], -1) \n",
    "\n",
    "    # Fit the k-NN classifier to the training data\n",
    "    # random_search.fit(x_train_flat, y_train)\n",
    "    # baseline=random_search.score(x_test_flat, y_test)\n",
    "    # print('Baseline accuracy: ', baseline)\n",
    "\n",
    "    # Test the performance for different k values\n",
    "    for k in tqdm(k_range):\n",
    "        \n",
    "        # Create an instance of the DAE class\n",
    "        s_time=time.time()\n",
    "        dae_cnn=DAE_CNN(latent_dim=k, batch_size=batch_size,\n",
    "                         input_shape=(IMG_SIZE, IMG_SIZE, 3))\n",
    "\n",
    "        dae=DAE(latent_dim=k, batch_size=batch_size,\n",
    "                    input_dim=IMG_SIZE*IMG_SIZE*3)\n",
    "        \n",
    "        # Fit the DAE to the training data\n",
    "        History=dae_cnn.fit(x_train, y_train, epochs=150, verbose=1)\n",
    "        histories.append(History)\n",
    "        dae.fit(x_train_flat, y_train, epochs=150, verbose=1)\n",
    "\n",
    "        # Evaluate the performance of the DAE\n",
    "        time_DAE_CNN_.append(time.time()-s_time)\n",
    "        random_search.fit(dae_cnn.transform(x_train), y_train)\n",
    "        accuracy_DAE_CNN_.append(random_search.score(dae_cnn.transform(x_test), y_test))\n",
    "        print('Accuracy: ', accuracy_DAE_CNN_[-1]\n",
    "              , 'Time: ', time_DAE_CNN_[-1])\n",
    "        \n",
    "        random_search.fit(dae.transform(x_train_flat), y_train)\n",
    "        accuracy_DAE_.append(random_search.score(dae.transform(x_test_flat), y_test))\n",
    "        print('Accuracy: ', accuracy_DAE_[-1])\n",
    "\n",
    "    accuracy_DAE_CNN.append(accuracy_DAE_CNN_)\n",
    "    accuracy_DAE.append(accuracy_DAE_)\n",
    "    time_DAE_CNN.append(time_DAE_CNN_)\n",
    "\n",
    "accuracy_DAE_CNN=np.array(accuracy_DAE_CNN).transpose()\n",
    "accuracy_DAE=np.array(accuracy_DAE).transpose()\n",
    "\n",
    "time_DAE_CNN=np.array(time_DAE_CNN).transpose()\n"
   ]
  },
  {
   "cell_type": "code",
   "execution_count": 105,
   "metadata": {},
   "outputs": [
    {
     "data": {
      "text/plain": [
       "[<matplotlib.lines.Line2D at 0x40d1d3ac0>]"
      ]
     },
     "execution_count": 105,
     "metadata": {},
     "output_type": "execute_result"
    },
    {
     "data": {
      "image/png": "[encoded data removed]",
      "text/plain": [
       "<Figure size 640x480 with 1 Axes>"
      ]
     },
     "metadata": {},
     "output_type": "display_data"
    }
   ],
   "source": [
    "import matplotlib.pyplot as plt\n",
    "plt.plot(k_range, accuracy_DAE, 'o')\n",
    "plt.plot(k_range, accuracy_DAE_CNN, 'o')"
   ]
  },
  {
   "cell_type": "code",
   "execution_count": null,
   "metadata": {},
   "outputs": [],
   "source": [
    "model1=tf.keras.models.load_model('../models/CNN_model_1.h5')"
   ]
  },
  {
   "cell_type": "code",
   "execution_count": 232,
   "metadata": {},
   "outputs": [
    {
     "data": {
      "image/png": "[encoded data removed]",
      "text/plain": [
       "<Figure size 1000x1100 with 1 Axes>"
      ]
     },
     "metadata": {},
     "output_type": "display_data"
    }
   ],
   "source": [
    "import matplotlib.pyplot as plt\n",
    "plt.figure(figsize=(10,11))\n",
    "\n",
    "plt.plot(History.history['loss'], label='Train loss')\n",
    "plt.plot(History.history['val_loss'], label='Validation loss')\n",
    "\n",
    "plt.legend()\n",
    "plt.title('Model Loss')\n",
    "plt.ylabel('Loss')\n",
    "plt.xlabel('Epochs')\n",
    "plt.show()"
   ]
  },
  {
   "cell_type": "code",
   "execution_count": 43,
   "metadata": {},
   "outputs": [],
   "source": [
    "from utils import ReductionAnalysis\n",
    "k_range=np.concatenate(((np.linspace(0.0005, 0.01, 10)*dre.dim).astype(np.int64), \n",
    "(np.linspace(.02, 0.1, 10)*dre.dim).astype(np.int64)))\n",
    "re=ReductionAnalysis(dre.X, dre.Y, k_range, batch_size=32)\n",
    "re.zero_results()\n",
    "methods=['SRP', 'RP', 'PCA', 'DAE', 'DAE_CNN']\n",
    "re.set_k_range(k_range)\n"
   ]
  },
  {
   "cell_type": "code",
   "execution_count": 10,
   "metadata": {},
   "outputs": [
    {
     "name": "stdout",
     "output_type": "stream",
     "text": [
      "[  1   4   8  11  14  17  20  24  27  30  61  88 116 143 170 197 225 252\n",
      " 279 307]\n"
     ]
    },
    {
     "name": "stderr",
     "output_type": "stream",
     "text": [
      "  0%|          | 0/20 [00:00<?, ?it/s]"
     ]
    },
    {
     "name": "stdout",
     "output_type": "stream",
     "text": [
      "Metal device set to: Apple M1 Max\n",
      "\n",
      "systemMemory: 64.00 GB\n",
      "maxCacheSize: 24.00 GB\n",
      "\n"
     ]
    },
    {
     "name": "stderr",
     "output_type": "stream",
     "text": [
      "2023-04-16 11:47:23.972051: W tensorflow/tsl/platform/profile_utils/cpu_utils.cc:128] Failed to get CPU frequency: 0 Hz\n"
     ]
    },
    {
     "name": "stdout",
     "output_type": "stream",
     "text": [
      "122/122 [==============================] - 0s 2ms/step\n",
      "14/14 [==============================] - 0s 5ms/step\n",
      "122/122 [==============================] - 0s 2ms/step\n",
      "14/14 [==============================] - 0s 3ms/step\n"
     ]
    },
    {
     "name": "stderr",
     "output_type": "stream",
     "text": [
      "  5%|▌         | 1/20 [00:41<13:16, 41.91s/it]"
     ]
    },
    {
     "name": "stdout",
     "output_type": "stream",
     "text": [
      "122/122 [==============================] - 0s 2ms/step\n",
      "14/14 [==============================] - 0s 5ms/step\n",
      "122/122 [==============================] - 0s 2ms/step\n",
      "14/14 [==============================] - 0s 4ms/step\n"
     ]
    },
    {
     "name": "stderr",
     "output_type": "stream",
     "text": [
      " 10%|█         | 2/20 [01:40<15:25, 51.44s/it]"
     ]
    },
    {
     "name": "stdout",
     "output_type": "stream",
     "text": [
      "122/122 [==============================] - 0s 3ms/step\n",
      "14/14 [==============================] - 0s 7ms/step\n",
      "122/122 [==============================] - 0s 2ms/step\n",
      "14/14 [==============================] - 0s 4ms/step\n"
     ]
    },
    {
     "name": "stderr",
     "output_type": "stream",
     "text": [
      " 15%|█▌        | 3/20 [02:48<16:46, 59.22s/it]"
     ]
    },
    {
     "name": "stdout",
     "output_type": "stream",
     "text": [
      "122/122 [==============================] - 0s 2ms/step\n",
      "14/14 [==============================] - 0s 6ms/step\n",
      "122/122 [==============================] - 0s 2ms/step\n",
      "14/14 [==============================] - 0s 3ms/step\n"
     ]
    },
    {
     "name": "stderr",
     "output_type": "stream",
     "text": [
      " 20%|██        | 4/20 [03:45<15:31, 58.21s/it]"
     ]
    },
    {
     "name": "stdout",
     "output_type": "stream",
     "text": [
      "122/122 [==============================] - 0s 3ms/step\n",
      "14/14 [==============================] - 0s 6ms/step\n",
      "122/122 [==============================] - 0s 2ms/step\n",
      "14/14 [==============================] - 0s 4ms/step\n"
     ]
    },
    {
     "name": "stderr",
     "output_type": "stream",
     "text": [
      " 25%|██▌       | 5/20 [04:42<14:26, 57.76s/it]"
     ]
    },
    {
     "name": "stdout",
     "output_type": "stream",
     "text": [
      "122/122 [==============================] - 0s 3ms/step\n",
      "14/14 [==============================] - 0s 7ms/step\n",
      "122/122 [==============================] - 0s 2ms/step\n",
      "14/14 [==============================] - 0s 4ms/step\n"
     ]
    },
    {
     "name": "stderr",
     "output_type": "stream",
     "text": [
      " 30%|███       | 6/20 [05:42<13:40, 58.61s/it]"
     ]
    },
    {
     "name": "stdout",
     "output_type": "stream",
     "text": [
      "122/122 [==============================] - 0s 3ms/step\n",
      "14/14 [==============================] - 0s 8ms/step\n",
      "122/122 [==============================] - 0s 2ms/step\n",
      "14/14 [==============================] - 0s 5ms/step\n"
     ]
    },
    {
     "name": "stderr",
     "output_type": "stream",
     "text": [
      " 35%|███▌      | 7/20 [06:44<12:58, 59.86s/it]"
     ]
    },
    {
     "name": "stdout",
     "output_type": "stream",
     "text": [
      "122/122 [==============================] - 0s 3ms/step\n",
      "14/14 [==============================] - 0s 6ms/step\n",
      "122/122 [==============================] - 0s 2ms/step\n",
      "14/14 [==============================] - 0s 5ms/step\n"
     ]
    },
    {
     "name": "stderr",
     "output_type": "stream",
     "text": [
      " 40%|████      | 8/20 [07:35<11:25, 57.09s/it]"
     ]
    },
    {
     "name": "stdout",
     "output_type": "stream",
     "text": [
      "122/122 [==============================] - 0s 3ms/step\n",
      "14/14 [==============================] - 0s 6ms/step\n",
      "122/122 [==============================] - 0s 2ms/step\n",
      "14/14 [==============================] - 0s 5ms/step\n"
     ]
    },
    {
     "name": "stderr",
     "output_type": "stream",
     "text": [
      " 45%|████▌     | 9/20 [08:40<10:51, 59.27s/it]"
     ]
    },
    {
     "name": "stdout",
     "output_type": "stream",
     "text": [
      "122/122 [==============================] - 1s 3ms/step\n",
      "14/14 [==============================] - 0s 10ms/step\n",
      "122/122 [==============================] - 0s 2ms/step\n",
      "14/14 [==============================] - 0s 7ms/step\n"
     ]
    },
    {
     "name": "stderr",
     "output_type": "stream",
     "text": [
      " 50%|█████     | 10/20 [09:46<10:14, 61.48s/it]"
     ]
    },
    {
     "name": "stdout",
     "output_type": "stream",
     "text": [
      "122/122 [==============================] - 1s 3ms/step\n",
      "14/14 [==============================] - 0s 7ms/step\n",
      "122/122 [==============================] - 0s 2ms/step\n",
      "14/14 [==============================] - 0s 4ms/step\n"
     ]
    },
    {
     "name": "stderr",
     "output_type": "stream",
     "text": [
      " 55%|█████▌    | 11/20 [10:57<09:40, 64.49s/it]"
     ]
    },
    {
     "name": "stdout",
     "output_type": "stream",
     "text": [
      "122/122 [==============================] - 0s 3ms/step\n",
      "14/14 [==============================] - 0s 7ms/step\n",
      "122/122 [==============================] - 0s 2ms/step\n",
      "14/14 [==============================] - 0s 6ms/step\n"
     ]
    },
    {
     "name": "stderr",
     "output_type": "stream",
     "text": [
      " 60%|██████    | 12/20 [12:02<08:37, 64.67s/it]"
     ]
    },
    {
     "name": "stdout",
     "output_type": "stream",
     "text": [
      "122/122 [==============================] - 1s 3ms/step\n",
      "14/14 [==============================] - 0s 9ms/step\n",
      "122/122 [==============================] - 0s 2ms/step\n",
      "14/14 [==============================] - 0s 6ms/step\n"
     ]
    },
    {
     "name": "stderr",
     "output_type": "stream",
     "text": [
      " 65%|██████▌   | 13/20 [13:08<07:34, 64.93s/it]"
     ]
    },
    {
     "name": "stdout",
     "output_type": "stream",
     "text": [
      "122/122 [==============================] - 1s 3ms/step\n",
      "14/14 [==============================] - 0s 11ms/step\n",
      "122/122 [==============================] - 0s 2ms/step\n",
      "14/14 [==============================] - 0s 5ms/step\n"
     ]
    },
    {
     "name": "stderr",
     "output_type": "stream",
     "text": [
      " 70%|███████   | 14/20 [14:27<06:55, 69.27s/it]"
     ]
    },
    {
     "name": "stdout",
     "output_type": "stream",
     "text": [
      "122/122 [==============================] - 1s 3ms/step\n",
      "14/14 [==============================] - 0s 11ms/step\n",
      "122/122 [==============================] - 0s 2ms/step\n",
      "14/14 [==============================] - 0s 6ms/step\n"
     ]
    },
    {
     "name": "stderr",
     "output_type": "stream",
     "text": [
      " 75%|███████▌  | 15/20 [15:41<05:53, 70.73s/it]"
     ]
    },
    {
     "name": "stdout",
     "output_type": "stream",
     "text": [
      "122/122 [==============================] - 1s 3ms/step\n",
      "14/14 [==============================] - 0s 10ms/step\n",
      "122/122 [==============================] - 0s 2ms/step\n",
      "14/14 [==============================] - 0s 7ms/step\n"
     ]
    },
    {
     "name": "stderr",
     "output_type": "stream",
     "text": [
      " 80%|████████  | 16/20 [16:54<04:44, 71.25s/it]"
     ]
    },
    {
     "name": "stdout",
     "output_type": "stream",
     "text": [
      "122/122 [==============================] - 1s 3ms/step\n",
      "14/14 [==============================] - 0s 10ms/step\n",
      "122/122 [==============================] - 0s 2ms/step\n",
      "14/14 [==============================] - 0s 6ms/step\n"
     ]
    },
    {
     "name": "stderr",
     "output_type": "stream",
     "text": [
      " 85%|████████▌ | 17/20 [18:02<03:31, 70.46s/it]"
     ]
    },
    {
     "name": "stdout",
     "output_type": "stream",
     "text": [
      "122/122 [==============================] - 1s 3ms/step\n",
      "14/14 [==============================] - 0s 11ms/step\n",
      "122/122 [==============================] - 0s 2ms/step\n",
      "14/14 [==============================] - 0s 6ms/step\n"
     ]
    },
    {
     "name": "stderr",
     "output_type": "stream",
     "text": [
      " 90%|█████████ | 18/20 [19:18<02:24, 72.16s/it]"
     ]
    },
    {
     "name": "stdout",
     "output_type": "stream",
     "text": [
      "122/122 [==============================] - 1s 3ms/step\n",
      "14/14 [==============================] - 0s 11ms/step\n",
      "122/122 [==============================] - 0s 2ms/step\n",
      "14/14 [==============================] - 0s 6ms/step\n"
     ]
    },
    {
     "name": "stderr",
     "output_type": "stream",
     "text": [
      " 95%|█████████▌| 19/20 [20:33<01:12, 72.80s/it]"
     ]
    },
    {
     "name": "stdout",
     "output_type": "stream",
     "text": [
      "122/122 [==============================] - 1s 3ms/step\n",
      "14/14 [==============================] - 0s 11ms/step\n",
      "122/122 [==============================] - 0s 2ms/step\n",
      "14/14 [==============================] - 0s 7ms/step\n"
     ]
    },
    {
     "name": "stderr",
     "output_type": "stream",
     "text": [
      "100%|██████████| 20/20 [21:41<00:00, 65.08s/it]\n"
     ]
    },
    {
     "name": "stdout",
     "output_type": "stream",
     "text": [
      "[  1   4   8  11  14  17  20  24  27  30  61  88 116 143 170 197 225 252\n",
      " 279 307]\n"
     ]
    },
    {
     "name": "stderr",
     "output_type": "stream",
     "text": [
      "  0%|          | 0/20 [00:00<?, ?it/s]"
     ]
    },
    {
     "name": "stdout",
     "output_type": "stream",
     "text": [
      "122/122 [==============================] - 1s 3ms/step\n",
      "14/14 [==============================] - 0s 10ms/step\n",
      "122/122 [==============================] - 0s 2ms/step\n",
      "14/14 [==============================] - 0s 10ms/step\n"
     ]
    },
    {
     "name": "stderr",
     "output_type": "stream",
     "text": [
      "  5%|▌         | 1/20 [01:00<19:02, 60.12s/it]"
     ]
    },
    {
     "name": "stdout",
     "output_type": "stream",
     "text": [
      "122/122 [==============================] - 1s 4ms/step\n",
      "14/14 [==============================] - 0s 10ms/step\n",
      "122/122 [==============================] - 0s 2ms/step\n",
      "14/14 [==============================] - 0s 5ms/step\n"
     ]
    },
    {
     "name": "stderr",
     "output_type": "stream",
     "text": [
      " 10%|█         | 2/20 [02:07<19:23, 64.66s/it]"
     ]
    },
    {
     "name": "stdout",
     "output_type": "stream",
     "text": [
      "122/122 [==============================] - 1s 3ms/step\n",
      "14/14 [==============================] - 0s 9ms/step\n",
      "122/122 [==============================] - 0s 2ms/step\n",
      "14/14 [==============================] - 0s 6ms/step\n"
     ]
    },
    {
     "name": "stderr",
     "output_type": "stream",
     "text": [
      " 15%|█▌        | 3/20 [03:16<18:49, 66.45s/it]"
     ]
    },
    {
     "name": "stdout",
     "output_type": "stream",
     "text": [
      "122/122 [==============================] - 1s 3ms/step\n",
      "14/14 [==============================] - 0s 10ms/step\n",
      "122/122 [==============================] - 0s 2ms/step\n",
      "14/14 [==============================] - 0s 6ms/step\n"
     ]
    },
    {
     "name": "stderr",
     "output_type": "stream",
     "text": [
      " 20%|██        | 4/20 [04:20<17:24, 65.29s/it]"
     ]
    },
    {
     "name": "stdout",
     "output_type": "stream",
     "text": [
      "122/122 [==============================] - 1s 3ms/step\n",
      "14/14 [==============================] - 0s 13ms/step\n",
      "122/122 [==============================] - 0s 2ms/step\n",
      "14/14 [==============================] - 0s 6ms/step\n"
     ]
    },
    {
     "name": "stderr",
     "output_type": "stream",
     "text": [
      " 25%|██▌       | 5/20 [05:32<16:56, 67.80s/it]"
     ]
    },
    {
     "name": "stdout",
     "output_type": "stream",
     "text": [
      "122/122 [==============================] - 1s 4ms/step\n",
      "14/14 [==============================] - 0s 13ms/step\n",
      "122/122 [==============================] - 0s 3ms/step\n",
      "14/14 [==============================] - 0s 7ms/step\n"
     ]
    },
    {
     "name": "stderr",
     "output_type": "stream",
     "text": [
      " 30%|███       | 6/20 [06:40<15:52, 68.03s/it]"
     ]
    },
    {
     "name": "stdout",
     "output_type": "stream",
     "text": [
      "122/122 [==============================] - 1s 3ms/step\n",
      "14/14 [==============================] - 0s 15ms/step\n",
      "122/122 [==============================] - 0s 3ms/step\n",
      "14/14 [==============================] - 0s 10ms/step\n"
     ]
    },
    {
     "name": "stderr",
     "output_type": "stream",
     "text": [
      " 35%|███▌      | 7/20 [07:54<15:08, 69.89s/it]"
     ]
    },
    {
     "name": "stdout",
     "output_type": "stream",
     "text": [
      "122/122 [==============================] - 1s 4ms/step\n",
      "14/14 [==============================] - 0s 8ms/step\n",
      "122/122 [==============================] - 0s 3ms/step\n",
      "14/14 [==============================] - 0s 5ms/step\n"
     ]
    },
    {
     "name": "stderr",
     "output_type": "stream",
     "text": [
      " 40%|████      | 8/20 [08:57<13:33, 67.79s/it]"
     ]
    },
    {
     "name": "stdout",
     "output_type": "stream",
     "text": [
      "122/122 [==============================] - 1s 4ms/step\n",
      "14/14 [==============================] - 0s 10ms/step\n",
      "122/122 [==============================] - 0s 2ms/step\n",
      "14/14 [==============================] - 0s 10ms/step\n"
     ]
    },
    {
     "name": "stderr",
     "output_type": "stream",
     "text": [
      " 45%|████▌     | 9/20 [10:00<12:08, 66.23s/it]"
     ]
    },
    {
     "name": "stdout",
     "output_type": "stream",
     "text": [
      "122/122 [==============================] - 1s 4ms/step\n",
      "14/14 [==============================] - 0s 12ms/step\n",
      "122/122 [==============================] - 0s 2ms/step\n",
      "14/14 [==============================] - 0s 5ms/step\n"
     ]
    },
    {
     "name": "stderr",
     "output_type": "stream",
     "text": [
      " 50%|█████     | 10/20 [11:15<11:30, 69.06s/it]"
     ]
    },
    {
     "name": "stdout",
     "output_type": "stream",
     "text": [
      "122/122 [==============================] - 1s 4ms/step\n",
      "14/14 [==============================] - 0s 14ms/step\n",
      "122/122 [==============================] - 0s 3ms/step\n",
      "14/14 [==============================] - 0s 9ms/step\n"
     ]
    },
    {
     "name": "stderr",
     "output_type": "stream",
     "text": [
      " 55%|█████▌    | 11/20 [12:31<10:39, 71.00s/it]"
     ]
    },
    {
     "name": "stdout",
     "output_type": "stream",
     "text": [
      "122/122 [==============================] - 1s 5ms/step\n",
      "14/14 [==============================] - 0s 17ms/step\n",
      "122/122 [==============================] - 0s 3ms/step\n",
      "14/14 [==============================] - 0s 10ms/step\n"
     ]
    },
    {
     "name": "stderr",
     "output_type": "stream",
     "text": [
      " 60%|██████    | 12/20 [13:46<09:37, 72.13s/it]"
     ]
    },
    {
     "name": "stdout",
     "output_type": "stream",
     "text": [
      "122/122 [==============================] - 1s 4ms/step\n",
      "14/14 [==============================] - 0s 13ms/step\n",
      "122/122 [==============================] - 0s 3ms/step\n",
      "14/14 [==============================] - 0s 10ms/step\n"
     ]
    },
    {
     "name": "stderr",
     "output_type": "stream",
     "text": [
      " 65%|██████▌   | 13/20 [15:19<09:10, 78.70s/it]"
     ]
    },
    {
     "name": "stdout",
     "output_type": "stream",
     "text": [
      "122/122 [==============================] - 1s 4ms/step\n",
      "14/14 [==============================] - 0s 11ms/step\n",
      "122/122 [==============================] - 0s 3ms/step\n",
      "14/14 [==============================] - 0s 8ms/step\n"
     ]
    },
    {
     "name": "stderr",
     "output_type": "stream",
     "text": [
      " 70%|███████   | 14/20 [16:40<07:55, 79.31s/it]"
     ]
    },
    {
     "name": "stdout",
     "output_type": "stream",
     "text": [
      "122/122 [==============================] - 1s 4ms/step\n",
      "14/14 [==============================] - 0s 12ms/step\n",
      "122/122 [==============================] - 0s 2ms/step\n",
      "14/14 [==============================] - 0s 10ms/step\n"
     ]
    },
    {
     "name": "stderr",
     "output_type": "stream",
     "text": [
      " 75%|███████▌  | 15/20 [17:50<06:22, 76.49s/it]"
     ]
    },
    {
     "name": "stdout",
     "output_type": "stream",
     "text": [
      "122/122 [==============================] - 1s 4ms/step\n",
      "14/14 [==============================] - 0s 19ms/step\n",
      "122/122 [==============================] - 0s 2ms/step\n",
      "14/14 [==============================] - 0s 7ms/step\n"
     ]
    },
    {
     "name": "stderr",
     "output_type": "stream",
     "text": [
      " 80%|████████  | 16/20 [19:14<05:14, 78.59s/it]"
     ]
    },
    {
     "name": "stdout",
     "output_type": "stream",
     "text": [
      "122/122 [==============================] - 1s 4ms/step\n",
      "14/14 [==============================] - 0s 13ms/step\n",
      "122/122 [==============================] - 1s 3ms/step\n",
      "14/14 [==============================] - 0s 13ms/step\n"
     ]
    },
    {
     "name": "stderr",
     "output_type": "stream",
     "text": [
      " 85%|████████▌ | 17/20 [20:37<03:59, 79.91s/it]"
     ]
    },
    {
     "name": "stdout",
     "output_type": "stream",
     "text": [
      "122/122 [==============================] - 1s 4ms/step\n",
      "14/14 [==============================] - 0s 11ms/step\n",
      "122/122 [==============================] - 0s 3ms/step\n",
      "14/14 [==============================] - 0s 9ms/step\n"
     ]
    },
    {
     "name": "stderr",
     "output_type": "stream",
     "text": [
      " 90%|█████████ | 18/20 [22:09<02:47, 83.72s/it]"
     ]
    },
    {
     "name": "stdout",
     "output_type": "stream",
     "text": [
      "122/122 [==============================] - 1s 4ms/step\n",
      "14/14 [==============================] - 0s 19ms/step\n",
      "122/122 [==============================] - 0s 2ms/step\n",
      "14/14 [==============================] - 0s 8ms/step\n"
     ]
    },
    {
     "name": "stderr",
     "output_type": "stream",
     "text": [
      " 95%|█████████▌| 19/20 [23:35<01:24, 84.28s/it]"
     ]
    },
    {
     "name": "stdout",
     "output_type": "stream",
     "text": [
      "122/122 [==============================] - 1s 4ms/step\n",
      "14/14 [==============================] - 0s 14ms/step\n",
      "122/122 [==============================] - 0s 2ms/step\n",
      "14/14 [==============================] - 0s 8ms/step\n"
     ]
    },
    {
     "name": "stderr",
     "output_type": "stream",
     "text": [
      "100%|██████████| 20/20 [25:00<00:00, 75.02s/it]\n"
     ]
    },
    {
     "name": "stdout",
     "output_type": "stream",
     "text": [
      "[  1   4   8  11  14  17  20  24  27  30  61  88 116 143 170 197 225 252\n",
      " 279 307]\n"
     ]
    },
    {
     "name": "stderr",
     "output_type": "stream",
     "text": [
      "  0%|          | 0/20 [00:00<?, ?it/s]"
     ]
    },
    {
     "name": "stdout",
     "output_type": "stream",
     "text": [
      "122/122 [==============================] - 1s 4ms/step\n",
      "14/14 [==============================] - 0s 12ms/step\n",
      "122/122 [==============================] - 0s 2ms/step\n",
      "14/14 [==============================] - 0s 8ms/step\n"
     ]
    },
    {
     "name": "stderr",
     "output_type": "stream",
     "text": [
      "  5%|▌         | 1/20 [01:03<19:59, 63.13s/it]"
     ]
    },
    {
     "name": "stdout",
     "output_type": "stream",
     "text": [
      "122/122 [==============================] - 1s 5ms/step\n",
      "14/14 [==============================] - 0s 13ms/step\n",
      "122/122 [==============================] - 0s 3ms/step\n",
      "14/14 [==============================] - 0s 9ms/step\n"
     ]
    },
    {
     "name": "stderr",
     "output_type": "stream",
     "text": [
      " 10%|█         | 2/20 [02:05<18:48, 62.71s/it]"
     ]
    },
    {
     "name": "stdout",
     "output_type": "stream",
     "text": [
      "122/122 [==============================] - 1s 5ms/step\n",
      "14/14 [==============================] - 0s 14ms/step\n",
      "122/122 [==============================] - 0s 2ms/step\n",
      "14/14 [==============================] - 0s 8ms/step\n"
     ]
    },
    {
     "name": "stderr",
     "output_type": "stream",
     "text": [
      " 15%|█▌        | 3/20 [03:18<19:09, 67.62s/it]"
     ]
    },
    {
     "name": "stdout",
     "output_type": "stream",
     "text": [
      "122/122 [==============================] - 1s 4ms/step\n",
      "14/14 [==============================] - 0s 19ms/step\n",
      "122/122 [==============================] - 0s 3ms/step\n",
      "14/14 [==============================] - 0s 8ms/step\n"
     ]
    },
    {
     "name": "stderr",
     "output_type": "stream",
     "text": [
      " 20%|██        | 4/20 [04:36<19:02, 71.38s/it]"
     ]
    },
    {
     "name": "stdout",
     "output_type": "stream",
     "text": [
      "122/122 [==============================] - 1s 5ms/step\n",
      "14/14 [==============================] - 0s 12ms/step\n",
      "122/122 [==============================] - 0s 3ms/step\n",
      "14/14 [==============================] - 0s 8ms/step\n"
     ]
    },
    {
     "name": "stderr",
     "output_type": "stream",
     "text": [
      " 25%|██▌       | 5/20 [05:47<17:51, 71.41s/it]"
     ]
    },
    {
     "name": "stdout",
     "output_type": "stream",
     "text": [
      "122/122 [==============================] - 1s 4ms/step\n",
      "14/14 [==============================] - 0s 13ms/step\n",
      "122/122 [==============================] - 1s 4ms/step\n",
      "14/14 [==============================] - 0s 9ms/step\n"
     ]
    },
    {
     "name": "stderr",
     "output_type": "stream",
     "text": [
      " 30%|███       | 6/20 [07:00<16:48, 72.06s/it]"
     ]
    },
    {
     "name": "stdout",
     "output_type": "stream",
     "text": [
      "122/122 [==============================] - 1s 5ms/step\n",
      "14/14 [==============================] - 0s 20ms/step\n",
      "122/122 [==============================] - 1s 3ms/step\n",
      "14/14 [==============================] - 0s 13ms/step\n"
     ]
    },
    {
     "name": "stderr",
     "output_type": "stream",
     "text": [
      " 35%|███▌      | 7/20 [08:20<16:08, 74.52s/it]"
     ]
    },
    {
     "name": "stdout",
     "output_type": "stream",
     "text": [
      "122/122 [==============================] - 1s 4ms/step\n",
      "14/14 [==============================] - 0s 12ms/step\n",
      "122/122 [==============================] - 0s 3ms/step\n",
      "14/14 [==============================] - 0s 12ms/step\n"
     ]
    },
    {
     "name": "stderr",
     "output_type": "stream",
     "text": [
      " 40%|████      | 8/20 [09:34<14:51, 74.29s/it]"
     ]
    },
    {
     "name": "stdout",
     "output_type": "stream",
     "text": [
      "122/122 [==============================] - 1s 4ms/step\n",
      "14/14 [==============================] - 0s 14ms/step\n",
      "122/122 [==============================] - 1s 3ms/step\n",
      "14/14 [==============================] - 0s 14ms/step\n"
     ]
    },
    {
     "name": "stderr",
     "output_type": "stream",
     "text": [
      " 45%|████▌     | 9/20 [10:56<14:05, 76.90s/it]"
     ]
    },
    {
     "name": "stdout",
     "output_type": "stream",
     "text": [
      "122/122 [==============================] - 1s 4ms/step\n",
      "14/14 [==============================] - 0s 19ms/step\n",
      "122/122 [==============================] - 0s 3ms/step\n",
      "14/14 [==============================] - 0s 11ms/step\n"
     ]
    },
    {
     "name": "stderr",
     "output_type": "stream",
     "text": [
      " 50%|█████     | 10/20 [12:08<12:32, 75.29s/it]"
     ]
    },
    {
     "name": "stdout",
     "output_type": "stream",
     "text": [
      "122/122 [==============================] - 1s 5ms/step\n",
      "14/14 [==============================] - 0s 13ms/step\n",
      "122/122 [==============================] - 1s 3ms/step\n",
      "14/14 [==============================] - 0s 13ms/step\n"
     ]
    },
    {
     "name": "stderr",
     "output_type": "stream",
     "text": [
      " 55%|█████▌    | 11/20 [13:39<12:00, 80.05s/it]"
     ]
    },
    {
     "name": "stdout",
     "output_type": "stream",
     "text": [
      "122/122 [==============================] - 1s 5ms/step\n",
      "14/14 [==============================] - 0s 13ms/step\n",
      "122/122 [==============================] - 0s 3ms/step\n",
      "14/14 [==============================] - 0s 9ms/step\n"
     ]
    },
    {
     "name": "stderr",
     "output_type": "stream",
     "text": [
      " 60%|██████    | 12/20 [15:09<11:04, 83.09s/it]"
     ]
    },
    {
     "name": "stdout",
     "output_type": "stream",
     "text": [
      "122/122 [==============================] - 1s 4ms/step\n",
      "14/14 [==============================] - 0s 20ms/step\n",
      "122/122 [==============================] - 1s 3ms/step\n",
      "14/14 [==============================] - 0s 13ms/step\n"
     ]
    },
    {
     "name": "stderr",
     "output_type": "stream",
     "text": [
      " 65%|██████▌   | 13/20 [16:29<09:35, 82.27s/it]"
     ]
    },
    {
     "name": "stdout",
     "output_type": "stream",
     "text": [
      "122/122 [==============================] - 1s 6ms/step\n",
      "14/14 [==============================] - 0s 19ms/step\n",
      "122/122 [==============================] - 1s 4ms/step\n",
      "14/14 [==============================] - 0s 10ms/step\n"
     ]
    },
    {
     "name": "stderr",
     "output_type": "stream",
     "text": [
      " 70%|███████   | 14/20 [17:53<08:15, 82.55s/it]"
     ]
    },
    {
     "name": "stdout",
     "output_type": "stream",
     "text": [
      "122/122 [==============================] - 1s 5ms/step\n",
      "14/14 [==============================] - 0s 14ms/step\n",
      "122/122 [==============================] - 1s 3ms/step\n",
      "14/14 [==============================] - 0s 12ms/step\n"
     ]
    },
    {
     "name": "stderr",
     "output_type": "stream",
     "text": [
      " 75%|███████▌  | 15/20 [19:34<07:20, 88.15s/it]"
     ]
    },
    {
     "name": "stdout",
     "output_type": "stream",
     "text": [
      "122/122 [==============================] - 1s 5ms/step\n",
      "14/14 [==============================] - 0s 12ms/step\n",
      "122/122 [==============================] - 1s 3ms/step\n",
      "14/14 [==============================] - 0s 12ms/step\n"
     ]
    },
    {
     "name": "stderr",
     "output_type": "stream",
     "text": [
      " 80%|████████  | 16/20 [20:58<05:48, 87.01s/it]"
     ]
    },
    {
     "name": "stdout",
     "output_type": "stream",
     "text": [
      "122/122 [==============================] - 1s 5ms/step\n",
      "14/14 [==============================] - 0s 12ms/step\n",
      "122/122 [==============================] - 1s 3ms/step\n",
      "14/14 [==============================] - 0s 19ms/step\n"
     ]
    },
    {
     "name": "stderr",
     "output_type": "stream",
     "text": [
      " 85%|████████▌ | 17/20 [22:24<04:20, 86.70s/it]"
     ]
    },
    {
     "name": "stdout",
     "output_type": "stream",
     "text": [
      "122/122 [==============================] - 1s 5ms/step\n",
      "14/14 [==============================] - 0s 13ms/step\n",
      "122/122 [==============================] - 1s 4ms/step\n",
      "14/14 [==============================] - 0s 11ms/step\n"
     ]
    },
    {
     "name": "stderr",
     "output_type": "stream",
     "text": [
      " 90%|█████████ | 18/20 [24:03<03:00, 90.30s/it]"
     ]
    },
    {
     "name": "stdout",
     "output_type": "stream",
     "text": [
      "122/122 [==============================] - 1s 6ms/step\n",
      "14/14 [==============================] - 0s 20ms/step\n",
      "122/122 [==============================] - 1s 3ms/step\n",
      "14/14 [==============================] - 0s 9ms/step\n"
     ]
    },
    {
     "name": "stderr",
     "output_type": "stream",
     "text": [
      " 95%|█████████▌| 19/20 [25:34<01:30, 90.45s/it]"
     ]
    },
    {
     "name": "stdout",
     "output_type": "stream",
     "text": [
      "122/122 [==============================] - 1s 4ms/step\n",
      "14/14 [==============================] - 0s 14ms/step\n",
      "122/122 [==============================] - 1s 3ms/step\n",
      "14/14 [==============================] - 0s 11ms/step\n"
     ]
    },
    {
     "name": "stderr",
     "output_type": "stream",
     "text": [
      "100%|██████████| 20/20 [27:01<00:00, 81.08s/it]\n"
     ]
    },
    {
     "name": "stdout",
     "output_type": "stream",
     "text": [
      "[  1   4   8  11  14  17  20  24  27  30  61  88 116 143 170 197 225 252\n",
      " 279 307]\n"
     ]
    },
    {
     "name": "stderr",
     "output_type": "stream",
     "text": [
      "  0%|          | 0/20 [00:00<?, ?it/s]"
     ]
    },
    {
     "name": "stdout",
     "output_type": "stream",
     "text": [
      "122/122 [==============================] - 1s 5ms/step\n",
      "14/14 [==============================] - 0s 25ms/step\n",
      "122/122 [==============================] - 1s 3ms/step\n",
      "14/14 [==============================] - 0s 12ms/step\n"
     ]
    },
    {
     "name": "stderr",
     "output_type": "stream",
     "text": [
      "  5%|▌         | 1/20 [01:09<21:53, 69.15s/it]"
     ]
    },
    {
     "name": "stdout",
     "output_type": "stream",
     "text": [
      "122/122 [==============================] - 1s 5ms/step\n",
      "14/14 [==============================] - 0s 13ms/step\n",
      "122/122 [==============================] - 1s 3ms/step\n",
      "14/14 [==============================] - 0s 13ms/step\n"
     ]
    },
    {
     "name": "stderr",
     "output_type": "stream",
     "text": [
      " 10%|█         | 2/20 [02:19<21:02, 70.14s/it]"
     ]
    },
    {
     "name": "stdout",
     "output_type": "stream",
     "text": [
      "122/122 [==============================] - 1s 6ms/step\n",
      "14/14 [==============================] - 0s 21ms/step\n",
      "122/122 [==============================] - 1s 4ms/step\n",
      "14/14 [==============================] - 0s 11ms/step\n"
     ]
    },
    {
     "name": "stderr",
     "output_type": "stream",
     "text": [
      " 15%|█▌        | 3/20 [03:44<21:42, 76.59s/it]"
     ]
    },
    {
     "name": "stdout",
     "output_type": "stream",
     "text": [
      "122/122 [==============================] - 1s 5ms/step\n",
      "14/14 [==============================] - 0s 14ms/step\n",
      "122/122 [==============================] - 1s 3ms/step\n",
      "14/14 [==============================] - 0s 13ms/step\n"
     ]
    },
    {
     "name": "stderr",
     "output_type": "stream",
     "text": [
      " 20%|██        | 4/20 [05:07<21:07, 79.23s/it]"
     ]
    },
    {
     "name": "stdout",
     "output_type": "stream",
     "text": [
      "122/122 [==============================] - 1s 6ms/step\n",
      "14/14 [==============================] - 0s 19ms/step\n",
      "122/122 [==============================] - 1s 4ms/step\n",
      "14/14 [==============================] - 0s 17ms/step\n"
     ]
    },
    {
     "name": "stderr",
     "output_type": "stream",
     "text": [
      " 25%|██▌       | 5/20 [06:35<20:37, 82.51s/it]"
     ]
    },
    {
     "name": "stdout",
     "output_type": "stream",
     "text": [
      "122/122 [==============================] - 1s 6ms/step\n",
      "14/14 [==============================] - 0s 31ms/step\n",
      "122/122 [==============================] - 1s 4ms/step\n",
      "14/14 [==============================] - 0s 13ms/step\n"
     ]
    },
    {
     "name": "stderr",
     "output_type": "stream",
     "text": [
      " 30%|███       | 6/20 [08:03<19:37, 84.13s/it]"
     ]
    },
    {
     "name": "stdout",
     "output_type": "stream",
     "text": [
      "122/122 [==============================] - 1s 6ms/step\n",
      "14/14 [==============================] - 0s 20ms/step\n",
      "122/122 [==============================] - 1s 4ms/step\n",
      "14/14 [==============================] - 0s 13ms/step\n"
     ]
    },
    {
     "name": "stderr",
     "output_type": "stream",
     "text": [
      " 35%|███▌      | 7/20 [09:25<18:07, 83.67s/it]"
     ]
    },
    {
     "name": "stdout",
     "output_type": "stream",
     "text": [
      "122/122 [==============================] - 1s 5ms/step\n",
      "14/14 [==============================] - 0s 22ms/step\n",
      "122/122 [==============================] - 1s 3ms/step\n",
      "14/14 [==============================] - 0s 16ms/step\n"
     ]
    },
    {
     "name": "stderr",
     "output_type": "stream",
     "text": [
      " 40%|████      | 8/20 [10:47<16:38, 83.17s/it]"
     ]
    },
    {
     "name": "stdout",
     "output_type": "stream",
     "text": [
      "122/122 [==============================] - 1s 7ms/step\n",
      "14/14 [==============================] - 0s 19ms/step\n",
      "122/122 [==============================] - 1s 4ms/step\n",
      "14/14 [==============================] - 0s 17ms/step\n"
     ]
    },
    {
     "name": "stderr",
     "output_type": "stream",
     "text": [
      " 45%|████▌     | 9/20 [12:28<16:14, 88.62s/it]"
     ]
    },
    {
     "name": "stdout",
     "output_type": "stream",
     "text": [
      "122/122 [==============================] - 1s 6ms/step\n",
      "14/14 [==============================] - 0s 23ms/step\n",
      "122/122 [==============================] - 1s 3ms/step\n",
      "14/14 [==============================] - 0s 20ms/step\n"
     ]
    },
    {
     "name": "stderr",
     "output_type": "stream",
     "text": [
      " 50%|█████     | 10/20 [14:14<15:40, 94.02s/it]"
     ]
    },
    {
     "name": "stdout",
     "output_type": "stream",
     "text": [
      "122/122 [==============================] - 1s 6ms/step\n",
      "14/14 [==============================] - 0s 34ms/step\n",
      "122/122 [==============================] - 1s 3ms/step\n",
      "14/14 [==============================] - 0s 13ms/step\n"
     ]
    },
    {
     "name": "stderr",
     "output_type": "stream",
     "text": [
      " 55%|█████▌    | 11/20 [15:45<13:56, 92.98s/it]"
     ]
    },
    {
     "name": "stdout",
     "output_type": "stream",
     "text": [
      "122/122 [==============================] - 1s 6ms/step\n",
      "14/14 [==============================] - 0s 34ms/step\n",
      "122/122 [==============================] - 1s 4ms/step\n",
      "14/14 [==============================] - 0s 15ms/step\n"
     ]
    },
    {
     "name": "stderr",
     "output_type": "stream",
     "text": [
      " 60%|██████    | 12/20 [17:13<12:12, 91.60s/it]"
     ]
    },
    {
     "name": "stdout",
     "output_type": "stream",
     "text": [
      "122/122 [==============================] - 1s 6ms/step\n",
      "14/14 [==============================] - 0s 36ms/step\n",
      "122/122 [==============================] - 1s 4ms/step\n",
      "14/14 [==============================] - 0s 13ms/step\n"
     ]
    },
    {
     "name": "stderr",
     "output_type": "stream",
     "text": [
      " 65%|██████▌   | 13/20 [18:56<11:05, 95.01s/it]"
     ]
    },
    {
     "name": "stdout",
     "output_type": "stream",
     "text": [
      "122/122 [==============================] - 1s 6ms/step\n",
      "14/14 [==============================] - 0s 22ms/step\n",
      "122/122 [==============================] - 1s 4ms/step\n",
      "14/14 [==============================] - 0s 17ms/step\n"
     ]
    },
    {
     "name": "stderr",
     "output_type": "stream",
     "text": [
      " 70%|███████   | 14/20 [20:34<09:35, 95.96s/it]"
     ]
    },
    {
     "name": "stdout",
     "output_type": "stream",
     "text": [
      "122/122 [==============================] - 1s 7ms/step\n",
      "14/14 [==============================] - 0s 24ms/step\n",
      "122/122 [==============================] - 1s 4ms/step\n",
      "14/14 [==============================] - 0s 17ms/step\n"
     ]
    },
    {
     "name": "stderr",
     "output_type": "stream",
     "text": [
      " 75%|███████▌  | 15/20 [22:08<07:56, 95.26s/it]"
     ]
    },
    {
     "name": "stdout",
     "output_type": "stream",
     "text": [
      "122/122 [==============================] - 1s 7ms/step\n",
      "14/14 [==============================] - 0s 35ms/step\n",
      "122/122 [==============================] - 1s 4ms/step\n",
      "14/14 [==============================] - 0s 18ms/step\n"
     ]
    },
    {
     "name": "stderr",
     "output_type": "stream",
     "text": [
      " 80%|████████  | 16/20 [23:41<06:18, 94.59s/it]"
     ]
    },
    {
     "name": "stdout",
     "output_type": "stream",
     "text": [
      "122/122 [==============================] - 1s 6ms/step\n",
      "14/14 [==============================] - 0s 21ms/step\n",
      "122/122 [==============================] - 1s 4ms/step\n",
      "14/14 [==============================] - 0s 17ms/step\n"
     ]
    },
    {
     "name": "stderr",
     "output_type": "stream",
     "text": [
      " 85%|████████▌ | 17/20 [25:33<04:59, 99.95s/it]"
     ]
    },
    {
     "name": "stdout",
     "output_type": "stream",
     "text": [
      "122/122 [==============================] - 1s 6ms/step\n",
      "14/14 [==============================] - 0s 20ms/step\n",
      "122/122 [==============================] - 1s 4ms/step\n",
      "14/14 [==============================] - 0s 14ms/step\n"
     ]
    },
    {
     "name": "stderr",
     "output_type": "stream",
     "text": [
      " 90%|█████████ | 18/20 [27:20<03:23, 101.92s/it]"
     ]
    },
    {
     "name": "stdout",
     "output_type": "stream",
     "text": [
      "122/122 [==============================] - 1s 6ms/step\n",
      "14/14 [==============================] - 0s 36ms/step\n",
      "122/122 [==============================] - 1s 4ms/step\n",
      "14/14 [==============================] - 0s 18ms/step\n"
     ]
    },
    {
     "name": "stderr",
     "output_type": "stream",
     "text": [
      " 95%|█████████▌| 19/20 [29:03<01:42, 102.32s/it]"
     ]
    },
    {
     "name": "stdout",
     "output_type": "stream",
     "text": [
      "122/122 [==============================] - 2s 7ms/step\n",
      "14/14 [==============================] - 0s 22ms/step\n",
      "122/122 [==============================] - 1s 4ms/step\n",
      "14/14 [==============================] - 0s 23ms/step\n"
     ]
    },
    {
     "name": "stderr",
     "output_type": "stream",
     "text": [
      "100%|██████████| 20/20 [30:50<00:00, 92.51s/it] \n"
     ]
    },
    {
     "name": "stdout",
     "output_type": "stream",
     "text": [
      "[  1   4   8  11  14  17  20  24  27  30  61  88 116 143 170 197 225 252\n",
      " 279 307]\n"
     ]
    },
    {
     "name": "stderr",
     "output_type": "stream",
     "text": [
      "  0%|          | 0/20 [00:00<?, ?it/s]"
     ]
    },
    {
     "name": "stdout",
     "output_type": "stream",
     "text": [
      "122/122 [==============================] - 1s 7ms/step\n",
      "14/14 [==============================] - 0s 28ms/step\n",
      "122/122 [==============================] - 1s 4ms/step\n",
      "14/14 [==============================] - 0s 18ms/step\n"
     ]
    },
    {
     "name": "stderr",
     "output_type": "stream",
     "text": [
      "  5%|▌         | 1/20 [01:19<25:19, 79.97s/it]"
     ]
    },
    {
     "name": "stdout",
     "output_type": "stream",
     "text": [
      "122/122 [==============================] - 1s 6ms/step\n",
      "14/14 [==============================] - 0s 35ms/step\n",
      "122/122 [==============================] - 1s 4ms/step\n",
      "14/14 [==============================] - 0s 14ms/step\n"
     ]
    },
    {
     "name": "stderr",
     "output_type": "stream",
     "text": [
      " 10%|█         | 2/20 [02:53<26:28, 88.24s/it]"
     ]
    },
    {
     "name": "stdout",
     "output_type": "stream",
     "text": [
      "122/122 [==============================] - 1s 7ms/step\n",
      "14/14 [==============================] - 0s 35ms/step\n",
      "122/122 [==============================] - 1s 4ms/step\n",
      "14/14 [==============================] - 0s 23ms/step\n"
     ]
    },
    {
     "name": "stderr",
     "output_type": "stream",
     "text": [
      " 15%|█▌        | 3/20 [04:24<25:20, 89.42s/it]"
     ]
    },
    {
     "name": "stdout",
     "output_type": "stream",
     "text": [
      "122/122 [==============================] - 2s 7ms/step\n",
      "14/14 [==============================] - 0s 26ms/step\n",
      "122/122 [==============================] - 1s 4ms/step\n",
      "14/14 [==============================] - 0s 17ms/step\n"
     ]
    },
    {
     "name": "stderr",
     "output_type": "stream",
     "text": [
      " 20%|██        | 4/20 [06:07<25:14, 94.67s/it]"
     ]
    },
    {
     "name": "stdout",
     "output_type": "stream",
     "text": [
      "122/122 [==============================] - 1s 7ms/step\n",
      "14/14 [==============================] - 0s 21ms/step\n",
      "122/122 [==============================] - 1s 4ms/step\n",
      "14/14 [==============================] - 0s 18ms/step\n"
     ]
    },
    {
     "name": "stderr",
     "output_type": "stream",
     "text": [
      " 25%|██▌       | 5/20 [07:45<23:57, 95.86s/it]"
     ]
    },
    {
     "name": "stdout",
     "output_type": "stream",
     "text": [
      "122/122 [==============================] - 1s 6ms/step\n",
      "14/14 [==============================] - 0s 24ms/step\n",
      "122/122 [==============================] - 1s 4ms/step\n",
      "14/14 [==============================] - 0s 19ms/step\n"
     ]
    },
    {
     "name": "stderr",
     "output_type": "stream",
     "text": [
      " 30%|███       | 6/20 [09:11<21:36, 92.57s/it]"
     ]
    },
    {
     "name": "stdout",
     "output_type": "stream",
     "text": [
      "122/122 [==============================] - 1s 7ms/step\n",
      "14/14 [==============================] - 0s 36ms/step\n",
      "122/122 [==============================] - 1s 4ms/step\n",
      "14/14 [==============================] - 0s 22ms/step\n"
     ]
    },
    {
     "name": "stderr",
     "output_type": "stream",
     "text": [
      " 35%|███▌      | 7/20 [10:42<19:54, 91.87s/it]"
     ]
    },
    {
     "name": "stdout",
     "output_type": "stream",
     "text": [
      "122/122 [==============================] - 2s 7ms/step\n",
      "14/14 [==============================] - 0s 35ms/step\n",
      "122/122 [==============================] - 1s 4ms/step\n",
      "14/14 [==============================] - 0s 21ms/step\n"
     ]
    },
    {
     "name": "stderr",
     "output_type": "stream",
     "text": [
      " 40%|████      | 8/20 [12:27<19:13, 96.10s/it]"
     ]
    },
    {
     "name": "stdout",
     "output_type": "stream",
     "text": [
      "122/122 [==============================] - 2s 7ms/step\n",
      "14/14 [==============================] - 0s 37ms/step\n",
      "122/122 [==============================] - 1s 4ms/step\n",
      "14/14 [==============================] - 0s 18ms/step\n"
     ]
    },
    {
     "name": "stderr",
     "output_type": "stream",
     "text": [
      " 45%|████▌     | 9/20 [14:02<17:33, 95.79s/it]"
     ]
    },
    {
     "name": "stdout",
     "output_type": "stream",
     "text": [
      "122/122 [==============================] - 2s 7ms/step\n",
      "14/14 [==============================] - 0s 24ms/step\n",
      "122/122 [==============================] - 1s 4ms/step\n",
      "14/14 [==============================] - 0s 15ms/step\n"
     ]
    },
    {
     "name": "stderr",
     "output_type": "stream",
     "text": [
      " 50%|█████     | 10/20 [15:38<15:57, 95.79s/it]"
     ]
    },
    {
     "name": "stdout",
     "output_type": "stream",
     "text": [
      "122/122 [==============================] - 2s 7ms/step\n",
      "14/14 [==============================] - 0s 26ms/step\n",
      "122/122 [==============================] - 1s 4ms/step\n",
      "14/14 [==============================] - 0s 19ms/step\n"
     ]
    },
    {
     "name": "stderr",
     "output_type": "stream",
     "text": [
      " 55%|█████▌    | 11/20 [17:10<14:12, 94.68s/it]"
     ]
    },
    {
     "name": "stdout",
     "output_type": "stream",
     "text": [
      "122/122 [==============================] - 2s 7ms/step\n",
      "14/14 [==============================] - 0s 23ms/step\n",
      "122/122 [==============================] - 1s 7ms/step\n",
      "14/14 [==============================] - 0s 16ms/step\n"
     ]
    },
    {
     "name": "stderr",
     "output_type": "stream",
     "text": [
      " 60%|██████    | 12/20 [19:15<13:52, 104.09s/it]"
     ]
    },
    {
     "name": "stdout",
     "output_type": "stream",
     "text": [
      "122/122 [==============================] - 2s 7ms/step\n",
      "14/14 [==============================] - 1s 27ms/step\n",
      "122/122 [==============================] - 1s 5ms/step\n",
      "14/14 [==============================] - 0s 16ms/step\n"
     ]
    },
    {
     "name": "stderr",
     "output_type": "stream",
     "text": [
      " 65%|██████▌   | 13/20 [21:16<12:44, 109.19s/it]"
     ]
    },
    {
     "name": "stdout",
     "output_type": "stream",
     "text": [
      "122/122 [==============================] - 2s 7ms/step\n",
      "14/14 [==============================] - 0s 22ms/step\n",
      "122/122 [==============================] - 1s 4ms/step\n",
      "14/14 [==============================] - 0s 16ms/step\n"
     ]
    },
    {
     "name": "stderr",
     "output_type": "stream",
     "text": [
      " 70%|███████   | 14/20 [23:04<10:53, 108.86s/it]"
     ]
    },
    {
     "name": "stdout",
     "output_type": "stream",
     "text": [
      "122/122 [==============================] - 2s 7ms/step\n",
      "14/14 [==============================] - 0s 30ms/step\n",
      "122/122 [==============================] - 1s 4ms/step\n",
      "14/14 [==============================] - 0s 15ms/step\n"
     ]
    },
    {
     "name": "stderr",
     "output_type": "stream",
     "text": [
      " 75%|███████▌  | 15/20 [24:42<08:46, 105.39s/it]"
     ]
    },
    {
     "name": "stdout",
     "output_type": "stream",
     "text": [
      "122/122 [==============================] - 2s 7ms/step\n",
      "14/14 [==============================] - 0s 22ms/step\n",
      "122/122 [==============================] - 1s 4ms/step\n",
      "14/14 [==============================] - 0s 20ms/step\n"
     ]
    },
    {
     "name": "stderr",
     "output_type": "stream",
     "text": [
      " 80%|████████  | 16/20 [26:26<07:00, 105.14s/it]"
     ]
    },
    {
     "name": "stdout",
     "output_type": "stream",
     "text": [
      "122/122 [==============================] - 2s 7ms/step\n",
      "14/14 [==============================] - 0s 25ms/step\n",
      "122/122 [==============================] - 1s 4ms/step\n",
      "14/14 [==============================] - 0s 21ms/step\n"
     ]
    },
    {
     "name": "stderr",
     "output_type": "stream",
     "text": [
      " 85%|████████▌ | 17/20 [28:21<05:23, 107.86s/it]"
     ]
    },
    {
     "name": "stdout",
     "output_type": "stream",
     "text": [
      "122/122 [==============================] - 2s 7ms/step\n",
      "14/14 [==============================] - 1s 40ms/step\n",
      "122/122 [==============================] - 1s 4ms/step\n",
      "14/14 [==============================] - 0s 16ms/step\n"
     ]
    },
    {
     "name": "stderr",
     "output_type": "stream",
     "text": [
      " 90%|█████████ | 18/20 [30:19<03:42, 111.04s/it]"
     ]
    },
    {
     "name": "stdout",
     "output_type": "stream",
     "text": [
      "122/122 [==============================] - 2s 8ms/step\n",
      "14/14 [==============================] - 1s 39ms/step\n",
      "122/122 [==============================] - 1s 4ms/step\n",
      "14/14 [==============================] - 0s 27ms/step\n"
     ]
    },
    {
     "name": "stderr",
     "output_type": "stream",
     "text": [
      " 95%|█████████▌| 19/20 [32:06<01:49, 109.85s/it]"
     ]
    },
    {
     "name": "stdout",
     "output_type": "stream",
     "text": [
      "122/122 [==============================] - 2s 7ms/step\n",
      "14/14 [==============================] - 0s 37ms/step\n",
      "122/122 [==============================] - 1s 4ms/step\n",
      "14/14 [==============================] - 0s 21ms/step\n"
     ]
    },
    {
     "name": "stderr",
     "output_type": "stream",
     "text": [
      "100%|██████████| 20/20 [33:52<00:00, 101.63s/it]\n"
     ]
    }
   ],
   "source": [
    "re.zero_results()\n",
    "re.set_k_range(k_range)\n",
    "for i in range(5):\n",
    "    print(k_range)\n",
    "    re.split_data()\n",
    "    re.evaluate(methods=methods, verbose=0)\n",
    "    re.results.to_csv('../saved_calculations/ReductionAnalysis.csv')"
   ]
  },
  {
   "cell_type": "code",
   "execution_count": 75,
   "metadata": {},
   "outputs": [
    {
     "name": "stdout",
     "output_type": "stream",
     "text": [
      "(20, 5)\n"
     ]
    }
   ],
   "source": [
    "fname='../saved_calculations/ReductionAnalysis_1.csv'\n",
    "results = pd.read_csv(fname, dtype={'Index': int, 'method': str,'score':float, 'time': float, 'k': int})\n",
    "results=results.drop(columns=['Unnamed: 0'])\n",
    "accuracy=[]\n",
    "for k in results['k'].unique():\n",
    "        tmp=results[results['k']==k]\n",
    "        tmp=tmp[tmp['method']==label]\n",
    "        accuracy.append(tmp['score'].to_numpy())\n",
    "accuracy=np.array(accuracy)\n",
    "print(accuracy.shape)"
   ]
  },
  {
   "cell_type": "code",
   "execution_count": 57,
   "metadata": {},
   "outputs": [
    {
     "data": {
      "text/plain": [
       "Series([], Name: method, dtype: float64)"
      ]
     },
     "execution_count": 57,
     "metadata": {},
     "output_type": "execute_result"
    }
   ],
   "source": []
  },
  {
   "cell_type": "code",
   "execution_count": 79,
   "metadata": {},
   "outputs": [
    {
     "name": "stdout",
     "output_type": "stream",
     "text": [
      "(20, 5)\n",
      "(20, 5)\n",
      "(20, 5)\n",
      "(20, 5)\n",
      "(20, 5)\n"
     ]
    },
    {
     "data": {
      "image/png": "[encoded data removed]",
      "text/plain": [
       "<Figure size 640x480 with 1 Axes>"
      ]
     },
     "metadata": {},
     "output_type": "display_data"
    }
   ],
   "source": [
    "%matplotlib inline\n",
    "k_range=np.array(results['k'].unique())\n",
    "fig, ax = plt.subplots()\n",
    "for plot_style, markersize, linewidth, label in zip(\n",
    "        ['+-', '*-', 'd-', 'o-', '^-'], [10, 5, 5, 5, 5], [2, 2, 2, 2, 2], methods):\n",
    "        accuracy=[]\n",
    "        for k in results['k'].unique():\n",
    "                tmp=results[results['k']==k]\n",
    "                tmp=tmp[tmp['method']==label]\n",
    "                accuracy.append(tmp['score'].to_numpy())\n",
    "        accuracy=np.array(accuracy)\n",
    "\n",
    "        ax.plot(k_range*100.0/dre.dim, accuracy.mean(axis=-1), plot_style, markersize=markersize,\n",
    "                linewidth=linewidth, label=label, alpha=0.8)\n",
    "        ax.fill_between(k_range*100.0/dre.dim, accuracy.mean(axis=-1) - accuracy.std(axis=-1),\n",
    "                        accuracy.mean(axis=-1) + accuracy.std(axis=-1), alpha=0.2)\n",
    "        \n",
    "ax.plot(k_range*100.0/dre.dim, np.ones_like(k_range)*baseline,\n",
    "         'k--', label='Baseline', alpha=0.8)\n",
    "\n",
    "# ax.legend(loc='best')\n",
    "ax.legend(loc='lower right')#, bbox_to_anchor=(1.2, 1.0))\n",
    "ax.set_xlabel(r'dim($Rx$)')\n",
    "ax.set_ylabel('Accuracy')\n",
    "\n",
    "# Format the tick labels to show a percentage sign\n",
    "import matplotlib.ticker as ticker\n",
    "fmt = '%.0f%%'\n",
    "xticks = ticker.FormatStrFormatter(fmt)\n",
    "ax.xaxis.set_major_formatter(xticks)\n",
    "ax.set_title('k-NN accuracy')\n",
    "plt.show()"
   ]
  },
  {
   "cell_type": "code",
   "execution_count": 42,
   "metadata": {},
   "outputs": [
    {
     "data": {
      "image/png": "[encoded data removed]",
      "text/plain": [
       "<Figure size 640x480 with 1 Axes>"
      ]
     },
     "metadata": {},
     "output_type": "display_data"
    }
   ],
   "source": [
    "%matplotlib inline\n",
    "results=re.results\n",
    "k_range=np.array(results['k'].unique())\n",
    "fig, ax = plt.subplots()\n",
    "for plot_style, markersize, linewidth, label in zip(\n",
    "        ['+-', '*-', 'd-', 'o-', '^-'], [10, 5, 5, 5, 5], [2, 2, 2, 2, 2], methods):\n",
    "        accuracy=[]\n",
    "        for k in results['k'].unique():\n",
    "                tmp=results[results['k']==k]\n",
    "                tmp=tmp[tmp['method']==label]\n",
    "                accuracy.append(tmp['time'].to_numpy())\n",
    "        accuracy=np.array(accuracy)\n",
    "        ax.plot(k_range/dre.dim*100, accuracy.mean(axis=-1), plot_style, markersize=markersize,\n",
    "                linewidth=linewidth, label=label, alpha=0.8)\n",
    "        ax.fill_between(k_range/dre.dim*100, accuracy.mean(axis=-1) - accuracy.std(axis=-1),\n",
    "                        accuracy.mean(axis=-1) + accuracy.std(axis=-1), alpha=0.2)\n",
    "\n",
    "# ax.legend(loc='best')\n",
    "ax.legend(loc='lower right')#, bbox_to_anchor=(1.2, 1.0))\n",
    "ax.set_xlabel(r'dim($Rx$)')\n",
    "ax.set_ylabel('Time (s)')\n",
    "ax.set_title('RP, SRP, PCA k-NN accuracy')\n",
    "plt.show()"
   ]
  },
  {
   "cell_type": "code",
   "execution_count": 44,
   "metadata": {},
   "outputs": [],
   "source": [
    "baseline=re.estimate_baseline()\n"
   ]
  },
  {
   "cell_type": "code",
   "execution_count": null,
   "metadata": {},
   "outputs": [],
   "source": []
  }
 ],
 "metadata": {
  "kernelspec": {
   "display_name": "hwenv",
   "language": "python",
   "name": "python3"
  },
  "language_info": {
   "codemirror_mode": {
    "name": "ipython",
    "version": 3
   },
   "file_extension": ".py",
   "mimetype": "text/x-python",
   "name": "python",
   "nbconvert_exporter": "python",
   "pygments_lexer": "ipython3",
   "version": "3.9.6"
  },
  "orig_nbformat": 4
 },
 "nbformat": 4,
 "nbformat_minor": 2
}
