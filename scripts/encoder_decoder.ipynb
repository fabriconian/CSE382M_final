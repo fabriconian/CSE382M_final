{
 "cells": [
  {
   "cell_type": "code",
   "execution_count": 106,
   "metadata": {},
   "outputs": [],
   "source": [
    "import numpy as np\n",
    "from utils import *\n",
    "from keras import callbacks\n",
    "import tensorflow as tf\n",
    "import time\n",
    "from tqdm import tqdm"
   ]
  },
  {
   "cell_type": "code",
   "execution_count": 91,
   "metadata": {},
   "outputs": [],
   "source": [
    "IMG_SIZE=32\n",
    "\n",
    "# Set the path to the folder containing the image data\n",
    "data_path = '../dataset/input_resized_256/flowers/'\n",
    "\n",
    "# Create an instance of the DimReductionEvaluation class\n",
    "dre = DimReductionEvaluation()\n",
    "dre.load_data(data_path, IMG_SIZE)"
   ]
  },
  {
   "cell_type": "code",
   "execution_count": 96,
   "metadata": {},
   "outputs": [
    {
     "name": "stdout",
     "output_type": "stream",
     "text": [
      "Model: \"sequential_157\"\n",
      "_________________________________________________________________\n",
      " Layer (type)                Output Shape              Param #   \n",
      "=================================================================\n",
      " conv2d_521 (Conv2D)         (None, 32, 32, 16)        448       \n",
      "                                                                 \n",
      " max_pooling2d_224 (MaxPooli  (None, 16, 16, 16)       0         \n",
      " ng2D)                                                           \n",
      "                                                                 \n",
      " batch_normalization_529 (Ba  (None, 16, 16, 16)       64        \n",
      " tchNormalization)                                               \n",
      "                                                                 \n",
      " conv2d_522 (Conv2D)         (None, 16, 16, 32)        4640      \n",
      "                                                                 \n",
      " max_pooling2d_225 (MaxPooli  (None, 8, 8, 32)         0         \n",
      " ng2D)                                                           \n",
      "                                                                 \n",
      " batch_normalization_530 (Ba  (None, 8, 8, 32)         128       \n",
      " tchNormalization)                                               \n",
      "                                                                 \n",
      " flatten_79 (Flatten)        (None, 2048)              0         \n",
      "                                                                 \n",
      " dense_238 (Dense)           (None, 100)               204900    \n",
      "                                                                 \n",
      "=================================================================\n",
      "Total params: 210,180\n",
      "Trainable params: 210,084\n",
      "Non-trainable params: 96\n",
      "_________________________________________________________________\n"
     ]
    },
    {
     "data": {
      "image/png": "[encoded data removed]",
      "text/plain": [
       "<PIL.Image.Image image mode=RGBA size=460x233>"
      ]
     },
     "execution_count": 96,
     "metadata": {},
     "output_type": "execute_result"
    }
   ],
   "source": [
    "batch_size=32\n",
    "dae_cnn=DAE_CNN(batch_size=batch_size,\n",
    "                 input_shape=(IMG_SIZE, IMG_SIZE, 3),latent_dim=100)\n",
    "\n",
    "dae=DAE(batch_size=batch_size,\n",
    "                 input_dim=IMG_SIZE*IMG_SIZE*3, latent_dim=100)\n",
    "\n",
    "dae_cnn.encoder.summary()\n",
    "import visualkeras\n",
    "from PIL import ImageFont\n",
    "visualkeras.layered_view(dae_cnn.encoder, legend=True)\n"
   ]
  },
  {
   "cell_type": "code",
   "execution_count": 84,
   "metadata": {},
   "outputs": [
    {
     "name": "stdout",
     "output_type": "stream",
     "text": [
      "Model: \"model_91\"\n",
      "_________________________________________________________________\n",
      " Layer (type)                Output Shape              Param #   \n",
      "=================================================================\n",
      " input_86 (InputLayer)       [(None, 3072)]            0         \n",
      "                                                                 \n",
      " dense_210 (Dense)           (None, 1536)              4720128   \n",
      "                                                                 \n",
      " batch_normalization_503 (Ba  (None, 1536)             6144      \n",
      " tchNormalization)                                               \n",
      "                                                                 \n",
      " activation_42 (Activation)  (None, 1536)              0         \n",
      "                                                                 \n",
      " dense_211 (Dense)           (None, 768)               1180416   \n",
      "                                                                 \n",
      " batch_normalization_504 (Ba  (None, 768)              3072      \n",
      " tchNormalization)                                               \n",
      "                                                                 \n",
      " activation_43 (Activation)  (None, 768)               0         \n",
      "                                                                 \n",
      " dense_212 (Dense)           (None, 384)               295296    \n",
      "                                                                 \n",
      " batch_normalization_505 (Ba  (None, 384)              1536      \n",
      " tchNormalization)                                               \n",
      "                                                                 \n",
      " activation_44 (Activation)  (None, 384)               0         \n",
      "                                                                 \n",
      " dense_213 (Dense)           (None, 100)               38500     \n",
      "                                                                 \n",
      "=================================================================\n",
      "Total params: 6,245,092\n",
      "Trainable params: 6,239,716\n",
      "Non-trainable params: 5,376\n",
      "_________________________________________________________________\n"
     ]
    },
    {
     "data": {
      "image/png": "[encoded data removed]",
      "text/plain": [
       "<PIL.Image.Image image mode=RGBA size=1261x63>"
      ]
     },
     "execution_count": 84,
     "metadata": {},
     "output_type": "execute_result"
    }
   ],
   "source": [
    "dae.encoder.summary()\n",
    "import visualkeras\n",
    "from PIL import ImageFont\n",
    "visualkeras.layered_view(dae.encoder, legend=True)\n"
   ]
  },
  {
   "cell_type": "code",
   "execution_count": 85,
   "metadata": {},
   "outputs": [
    {
     "data": {
      "text/plain": [
       "(3885, 3072)"
      ]
     },
     "execution_count": 85,
     "metadata": {},
     "output_type": "execute_result"
    }
   ],
   "source": [
    "x_train, x_test, y_train, y_test = dre.split_data(dre.X, dre.Y, test_size=0.1)\n",
    "x_train_flat=x_train.reshape(x_train.shape[0], -1)\n",
    "x_test_flat=x_test.reshape(x_test.shape[0], -1)\n",
    "x_train_flat.shape"
   ]
  },
  {
   "cell_type": "code",
   "execution_count": 100,
   "metadata": {},
   "outputs": [
    {
     "name": "stdout",
     "output_type": "stream",
     "text": [
      "Epoch 1/100\n",
      "122/122 [==============================] - 4s 32ms/step - loss: 0.2921 - val_loss: 0.2893\n",
      "Epoch 2/100\n",
      "122/122 [==============================] - 3s 27ms/step - loss: 0.2919 - val_loss: 0.2879\n",
      "Epoch 3/100\n",
      "122/122 [==============================] - 3s 25ms/step - loss: 0.2918 - val_loss: 0.2880\n",
      "Epoch 4/100\n",
      "122/122 [==============================] - 3s 25ms/step - loss: 0.2912 - val_loss: 0.2883\n",
      "Epoch 5/100\n",
      "122/122 [==============================] - 3s 23ms/step - loss: 0.2913 - val_loss: 0.2866\n",
      "Epoch 6/100\n",
      "122/122 [==============================] - 3s 24ms/step - loss: 0.2905 - val_loss: 0.2871\n",
      "Epoch 7/100\n",
      "122/122 [==============================] - 3s 25ms/step - loss: 0.2904 - val_loss: 0.2863\n",
      "Epoch 8/100\n",
      "122/122 [==============================] - 3s 23ms/step - loss: 0.2902 - val_loss: 0.2874\n",
      "Epoch 9/100\n",
      "122/122 [==============================] - 3s 24ms/step - loss: 0.2898 - val_loss: 0.2856\n",
      "Epoch 10/100\n",
      "122/122 [==============================] - 3s 23ms/step - loss: 0.2891 - val_loss: 0.2852\n",
      "Epoch 11/100\n",
      "122/122 [==============================] - 3s 24ms/step - loss: 0.2888 - val_loss: 0.2848\n"
     ]
    }
   ],
   "source": [
    "History=dae.fit(x_train_flat, y_train, epochs=100, verbose=1)\n",
    "# History=dae.autoencoder.fit(\n",
    "#             x_train_flat,\n",
    "#             x_train_flat,\n",
    "#             epochs=100,\n",
    "#             batch_size=dae.batch_size,\n",
    "#             validation_data=(x_test_flat, x_test_flat),\n",
    "#             verbose=1,\n",
    "#             callbacks=[\n",
    "#                 callbacks.EarlyStopping(\n",
    "#                     monitor='val_loss',\n",
    "#                     min_delta=0.01,\n",
    "#                     patience=10,\n",
    "#                     restore_best_weights=True)]\n",
    "#             )"
   ]
  },
  {
   "cell_type": "code",
   "execution_count": 104,
   "metadata": {},
   "outputs": [
    {
     "name": "stderr",
     "output_type": "stream",
     "text": [
      "  0%|          | 0/3 [00:00<?, ?it/s]"
     ]
    },
    {
     "name": "stdout",
     "output_type": "stream",
     "text": [
      "Epoch 1/150\n",
      "122/122 [==============================] - 7s 45ms/step - loss: 0.4870 - val_loss: 0.3487\n",
      "Epoch 2/150\n",
      "122/122 [==============================] - 2s 20ms/step - loss: 0.3415 - val_loss: 0.3215\n",
      "Epoch 3/150\n",
      "122/122 [==============================] - 2s 19ms/step - loss: 0.3341 - val_loss: 0.3083\n",
      "Epoch 4/150\n",
      "122/122 [==============================] - 2s 19ms/step - loss: 0.3212 - val_loss: 0.3029\n",
      "Epoch 5/150\n",
      "122/122 [==============================] - 2s 19ms/step - loss: 0.3179 - val_loss: 0.2991\n",
      "Epoch 6/150\n",
      "122/122 [==============================] - 2s 19ms/step - loss: 0.3167 - val_loss: 0.3042\n",
      "Epoch 7/150\n",
      "122/122 [==============================] - 2s 18ms/step - loss: 0.3161 - val_loss: 0.2985\n",
      "Epoch 8/150\n",
      "122/122 [==============================] - 2s 18ms/step - loss: 0.3145 - val_loss: 0.2979\n",
      "Epoch 9/150\n",
      "122/122 [==============================] - 2s 18ms/step - loss: 0.3134 - val_loss: 0.2963\n",
      "Epoch 10/150\n",
      "122/122 [==============================] - 2s 18ms/step - loss: 0.3128 - val_loss: 0.2962\n",
      "Epoch 11/150\n",
      "122/122 [==============================] - 2s 18ms/step - loss: 0.3123 - val_loss: 0.2957\n",
      "Epoch 12/150\n",
      "122/122 [==============================] - 2s 18ms/step - loss: 0.3115 - val_loss: 0.2958\n",
      "Epoch 13/150\n",
      "122/122 [==============================] - 2s 18ms/step - loss: 0.3118 - val_loss: 0.2952\n",
      "Epoch 14/150\n",
      "122/122 [==============================] - 2s 18ms/step - loss: 0.3111 - val_loss: 0.2940\n",
      "Epoch 15/150\n",
      "122/122 [==============================] - 2s 18ms/step - loss: 0.3106 - val_loss: 0.2939\n",
      "Epoch 16/150\n",
      "122/122 [==============================] - 2s 17ms/step - loss: 0.3104 - val_loss: 0.2958\n",
      "Epoch 17/150\n",
      "122/122 [==============================] - 2s 19ms/step - loss: 0.3102 - val_loss: 0.2937\n",
      "Epoch 18/150\n",
      "122/122 [==============================] - 2s 18ms/step - loss: 0.3097 - val_loss: 0.2933\n",
      "Epoch 1/150\n",
      "122/122 [==============================] - 13s 76ms/step - loss: 0.3355 - val_loss: 0.3329\n",
      "Epoch 2/150\n",
      "122/122 [==============================] - 3s 28ms/step - loss: 0.3171 - val_loss: 0.3146\n",
      "Epoch 3/150\n",
      "122/122 [==============================] - 4s 32ms/step - loss: 0.3146 - val_loss: 0.3117\n",
      "Epoch 4/150\n",
      "122/122 [==============================] - 3s 27ms/step - loss: 0.3136 - val_loss: 0.3110\n",
      "Epoch 5/150\n",
      "122/122 [==============================] - 3s 23ms/step - loss: 0.3134 - val_loss: 0.3090\n",
      "Epoch 6/150\n",
      "122/122 [==============================] - 3s 23ms/step - loss: 0.3124 - val_loss: 0.3080\n",
      "Epoch 7/150\n",
      "122/122 [==============================] - 3s 23ms/step - loss: 0.3117 - val_loss: 0.3046\n",
      "Epoch 8/150\n",
      "122/122 [==============================] - 3s 24ms/step - loss: 0.3118 - val_loss: 0.3067\n",
      "Epoch 9/150\n",
      "122/122 [==============================] - 3s 25ms/step - loss: 0.3113 - val_loss: 0.3047\n",
      "Epoch 10/150\n",
      "122/122 [==============================] - 3s 23ms/step - loss: 0.3105 - val_loss: 0.3041\n",
      "Epoch 11/150\n",
      "122/122 [==============================] - 3s 23ms/step - loss: 0.3101 - val_loss: 0.3039\n",
      "Epoch 12/150\n",
      "122/122 [==============================] - 3s 23ms/step - loss: 0.3096 - val_loss: 0.3037\n",
      "Epoch 13/150\n",
      "122/122 [==============================] - 3s 23ms/step - loss: 0.3096 - val_loss: 0.3028\n",
      "Epoch 14/150\n",
      "122/122 [==============================] - 3s 23ms/step - loss: 0.3095 - val_loss: 0.3025\n",
      "Epoch 15/150\n",
      "122/122 [==============================] - 3s 23ms/step - loss: 0.3092 - val_loss: 0.3018\n",
      "Epoch 16/150\n",
      "122/122 [==============================] - 3s 23ms/step - loss: 0.3091 - val_loss: 0.3028\n",
      "Epoch 17/150\n",
      "122/122 [==============================] - 3s 24ms/step - loss: 0.3090 - val_loss: 0.3020\n",
      "122/122 [==============================] - 1s 3ms/step\n"
     ]
    },
    {
     "name": "stderr",
     "output_type": "stream",
     "text": [
      "/Users/visyn/.virtualenvs/hwenv/lib/python3.9/site-packages/sklearn/model_selection/_search.py:305: UserWarning: The total space of parameters 54 is smaller than n_iter=60. Running 54 iterations. For exhaustive searches, use GridSearchCV.\n",
      "  warnings.warn(\n"
     ]
    },
    {
     "name": "stdout",
     "output_type": "stream",
     "text": [
      "14/14 [==============================] - 0s 8ms/step\n",
      "Accuracy:  0.3287037037037037 Time:  105.94603490829468\n",
      "122/122 [==============================] - 1s 4ms/step\n"
     ]
    },
    {
     "name": "stderr",
     "output_type": "stream",
     "text": [
      "/Users/visyn/.virtualenvs/hwenv/lib/python3.9/site-packages/sklearn/model_selection/_search.py:305: UserWarning: The total space of parameters 54 is smaller than n_iter=60. Running 54 iterations. For exhaustive searches, use GridSearchCV.\n",
      "  warnings.warn(\n"
     ]
    },
    {
     "name": "stdout",
     "output_type": "stream",
     "text": [
      "14/14 [==============================] - 0s 15ms/step\n"
     ]
    },
    {
     "name": "stderr",
     "output_type": "stream",
     "text": [
      " 33%|███▎      | 1/3 [01:48<03:37, 108.84s/it]"
     ]
    },
    {
     "name": "stdout",
     "output_type": "stream",
     "text": [
      "Accuracy:  0.3449074074074074\n",
      "Epoch 1/150\n",
      "122/122 [==============================] - 7s 45ms/step - loss: 0.4540 - val_loss: 0.3362\n",
      "Epoch 2/150\n",
      "122/122 [==============================] - 3s 21ms/step - loss: 0.3121 - val_loss: 0.3256\n",
      "Epoch 3/150\n",
      "122/122 [==============================] - 2s 20ms/step - loss: 0.3004 - val_loss: 0.3095\n",
      "Epoch 4/150\n",
      "122/122 [==============================] - 2s 19ms/step - loss: 0.2915 - val_loss: 0.2944\n",
      "Epoch 5/150\n",
      "122/122 [==============================] - 2s 19ms/step - loss: 0.2861 - val_loss: 0.2887\n",
      "Epoch 6/150\n",
      "122/122 [==============================] - 2s 19ms/step - loss: 0.2864 - val_loss: 0.2864\n",
      "Epoch 7/150\n",
      "122/122 [==============================] - 2s 19ms/step - loss: 0.2815 - val_loss: 0.2850\n",
      "Epoch 8/150\n",
      "122/122 [==============================] - 2s 19ms/step - loss: 0.2809 - val_loss: 0.2829\n",
      "Epoch 9/150\n",
      "122/122 [==============================] - 2s 19ms/step - loss: 0.2795 - val_loss: 0.2822\n",
      "Epoch 10/150\n",
      "122/122 [==============================] - 2s 18ms/step - loss: 0.2792 - val_loss: 0.2817\n",
      "Epoch 11/150\n",
      "122/122 [==============================] - 2s 19ms/step - loss: 0.2770 - val_loss: 0.2810\n",
      "Epoch 12/150\n",
      "122/122 [==============================] - 2s 18ms/step - loss: 0.2759 - val_loss: 0.2799\n",
      "Epoch 13/150\n",
      "122/122 [==============================] - 2s 19ms/step - loss: 0.2755 - val_loss: 0.2802\n",
      "Epoch 14/150\n",
      "122/122 [==============================] - 2s 18ms/step - loss: 0.2750 - val_loss: 0.2792\n",
      "Epoch 15/150\n",
      "122/122 [==============================] - 2s 19ms/step - loss: 0.2738 - val_loss: 0.2775\n",
      "Epoch 16/150\n",
      "122/122 [==============================] - 2s 18ms/step - loss: 0.2742 - val_loss: 0.2778\n",
      "Epoch 17/150\n",
      "122/122 [==============================] - 2s 18ms/step - loss: 0.2735 - val_loss: 0.2775\n",
      "Epoch 18/150\n",
      "122/122 [==============================] - 2s 19ms/step - loss: 0.2729 - val_loss: 0.2767\n",
      "Epoch 1/150\n",
      "122/122 [==============================] - 16s 78ms/step - loss: 0.3315 - val_loss: 0.3475\n",
      "Epoch 2/150\n",
      "122/122 [==============================] - 5s 38ms/step - loss: 0.3110 - val_loss: 0.3172\n",
      "Epoch 3/150\n",
      "122/122 [==============================] - 4s 30ms/step - loss: 0.3078 - val_loss: 0.3109\n",
      "Epoch 4/150\n",
      "122/122 [==============================] - 4s 29ms/step - loss: 0.3056 - val_loss: 0.3039\n",
      "Epoch 5/150\n",
      "122/122 [==============================] - 4s 29ms/step - loss: 0.3030 - val_loss: 0.2977\n",
      "Epoch 6/150\n",
      "122/122 [==============================] - 3s 27ms/step - loss: 0.3023 - val_loss: 0.2987\n",
      "Epoch 7/150\n",
      "122/122 [==============================] - 3s 26ms/step - loss: 0.3012 - val_loss: 0.2949\n",
      "Epoch 8/150\n",
      "122/122 [==============================] - 3s 28ms/step - loss: 0.2991 - val_loss: 0.2935\n",
      "Epoch 9/150\n",
      "122/122 [==============================] - 3s 26ms/step - loss: 0.2985 - val_loss: 0.2992\n",
      "Epoch 10/150\n",
      "122/122 [==============================] - 3s 28ms/step - loss: 0.2976 - val_loss: 0.2921\n",
      "Epoch 11/150\n",
      "122/122 [==============================] - 3s 25ms/step - loss: 0.2964 - val_loss: 0.2897\n",
      "Epoch 12/150\n",
      "122/122 [==============================] - 3s 28ms/step - loss: 0.2957 - val_loss: 0.2912\n",
      "Epoch 13/150\n",
      "122/122 [==============================] - 3s 26ms/step - loss: 0.2955 - val_loss: 0.2896\n",
      "Epoch 14/150\n",
      "122/122 [==============================] - 3s 25ms/step - loss: 0.2949 - val_loss: 0.2898\n",
      "Epoch 15/150\n",
      "122/122 [==============================] - 3s 26ms/step - loss: 0.2937 - val_loss: 0.2870\n",
      "Epoch 16/150\n",
      "122/122 [==============================] - 3s 25ms/step - loss: 0.2935 - val_loss: 0.2871\n",
      "Epoch 17/150\n",
      "122/122 [==============================] - 3s 26ms/step - loss: 0.2927 - val_loss: 0.2855\n",
      "Epoch 18/150\n",
      "122/122 [==============================] - 3s 26ms/step - loss: 0.2926 - val_loss: 0.2869\n",
      "122/122 [==============================] - 1s 3ms/step\n"
     ]
    },
    {
     "name": "stderr",
     "output_type": "stream",
     "text": [
      "/Users/visyn/.virtualenvs/hwenv/lib/python3.9/site-packages/sklearn/model_selection/_search.py:305: UserWarning: The total space of parameters 54 is smaller than n_iter=60. Running 54 iterations. For exhaustive searches, use GridSearchCV.\n",
      "  warnings.warn(\n"
     ]
    },
    {
     "name": "stdout",
     "output_type": "stream",
     "text": [
      "14/14 [==============================] - 0s 11ms/step\n",
      "Accuracy:  0.4537037037037037 Time:  119.1641321182251\n",
      "122/122 [==============================] - 1s 4ms/step\n"
     ]
    },
    {
     "name": "stderr",
     "output_type": "stream",
     "text": [
      "/Users/visyn/.virtualenvs/hwenv/lib/python3.9/site-packages/sklearn/model_selection/_search.py:305: UserWarning: The total space of parameters 54 is smaller than n_iter=60. Running 54 iterations. For exhaustive searches, use GridSearchCV.\n",
      "  warnings.warn(\n"
     ]
    },
    {
     "name": "stdout",
     "output_type": "stream",
     "text": [
      "14/14 [==============================] - 0s 15ms/step\n"
     ]
    },
    {
     "name": "stderr",
     "output_type": "stream",
     "text": [
      " 67%|██████▋   | 2/3 [03:52<01:57, 117.62s/it]"
     ]
    },
    {
     "name": "stdout",
     "output_type": "stream",
     "text": [
      "Accuracy:  0.42592592592592593\n",
      "Epoch 1/150\n",
      "122/122 [==============================] - 7s 45ms/step - loss: 0.4514 - val_loss: 0.3379\n",
      "Epoch 2/150\n",
      "122/122 [==============================] - 3s 21ms/step - loss: 0.3144 - val_loss: 0.3392\n",
      "Epoch 3/150\n",
      "122/122 [==============================] - 2s 20ms/step - loss: 0.2981 - val_loss: 0.3251\n",
      "Epoch 4/150\n",
      "122/122 [==============================] - 2s 19ms/step - loss: 0.2915 - val_loss: 0.3058\n",
      "Epoch 5/150\n",
      "122/122 [==============================] - 2s 19ms/step - loss: 0.2894 - val_loss: 0.2958\n",
      "Epoch 6/150\n",
      "122/122 [==============================] - 2s 19ms/step - loss: 0.2834 - val_loss: 0.2938\n",
      "Epoch 7/150\n",
      "122/122 [==============================] - 2s 18ms/step - loss: 0.2818 - val_loss: 0.2911\n",
      "Epoch 8/150\n",
      "122/122 [==============================] - 2s 19ms/step - loss: 0.2807 - val_loss: 0.2874\n",
      "Epoch 9/150\n",
      "122/122 [==============================] - 2s 19ms/step - loss: 0.2794 - val_loss: 0.2864\n",
      "Epoch 10/150\n",
      "122/122 [==============================] - 2s 18ms/step - loss: 0.2777 - val_loss: 0.2865\n",
      "Epoch 11/150\n",
      "122/122 [==============================] - 2s 18ms/step - loss: 0.2759 - val_loss: 0.2844\n",
      "Epoch 12/150\n",
      "122/122 [==============================] - 2s 19ms/step - loss: 0.2751 - val_loss: 0.2837\n",
      "Epoch 13/150\n",
      "122/122 [==============================] - 2s 19ms/step - loss: 0.2755 - val_loss: 0.2826\n",
      "Epoch 14/150\n",
      "122/122 [==============================] - 2s 18ms/step - loss: 0.2741 - val_loss: 0.2820\n",
      "Epoch 15/150\n",
      "122/122 [==============================] - 2s 18ms/step - loss: 0.2734 - val_loss: 0.2816\n",
      "Epoch 16/150\n",
      "122/122 [==============================] - 2s 19ms/step - loss: 0.2726 - val_loss: 0.2813\n",
      "Epoch 17/150\n",
      "122/122 [==============================] - 2s 18ms/step - loss: 0.2722 - val_loss: 0.2810\n",
      "Epoch 18/150\n",
      "122/122 [==============================] - 2s 18ms/step - loss: 0.2715 - val_loss: 0.2795\n",
      "Epoch 19/150\n",
      "122/122 [==============================] - 2s 18ms/step - loss: 0.2714 - val_loss: 0.2791\n",
      "Epoch 20/150\n",
      "122/122 [==============================] - 2s 19ms/step - loss: 0.2709 - val_loss: 0.2793\n",
      "Epoch 21/150\n",
      "122/122 [==============================] - 2s 18ms/step - loss: 0.2713 - val_loss: 0.2793\n",
      "Epoch 1/150\n",
      "122/122 [==============================] - 14s 77ms/step - loss: 0.3330 - val_loss: 0.3641\n",
      "Epoch 2/150\n",
      "122/122 [==============================] - 4s 35ms/step - loss: 0.3112 - val_loss: 0.3362\n",
      "Epoch 3/150\n",
      "122/122 [==============================] - 3s 26ms/step - loss: 0.3082 - val_loss: 0.3264\n",
      "Epoch 4/150\n",
      "122/122 [==============================] - 4s 29ms/step - loss: 0.3053 - val_loss: 0.3177\n",
      "Epoch 5/150\n",
      "122/122 [==============================] - 3s 26ms/step - loss: 0.3035 - val_loss: 0.3116\n",
      "Epoch 6/150\n",
      "122/122 [==============================] - 3s 23ms/step - loss: 0.3023 - val_loss: 0.3106\n",
      "Epoch 7/150\n",
      "122/122 [==============================] - 3s 23ms/step - loss: 0.3009 - val_loss: 0.3073\n",
      "Epoch 8/150\n",
      "122/122 [==============================] - 3s 23ms/step - loss: 0.2999 - val_loss: 0.3082\n",
      "Epoch 9/150\n",
      "122/122 [==============================] - 3s 26ms/step - loss: 0.2990 - val_loss: 0.3055\n",
      "Epoch 10/150\n",
      "122/122 [==============================] - 3s 23ms/step - loss: 0.2984 - val_loss: 0.3034\n",
      "Epoch 11/150\n",
      "122/122 [==============================] - 3s 23ms/step - loss: 0.2971 - val_loss: 0.3013\n",
      "Epoch 12/150\n",
      "122/122 [==============================] - 3s 23ms/step - loss: 0.2964 - val_loss: 0.3018\n",
      "Epoch 13/150\n",
      "122/122 [==============================] - 3s 23ms/step - loss: 0.2951 - val_loss: 0.3013\n",
      "Epoch 14/150\n",
      "122/122 [==============================] - 3s 23ms/step - loss: 0.2954 - val_loss: 0.3006\n",
      "Epoch 15/150\n",
      "122/122 [==============================] - 3s 23ms/step - loss: 0.2945 - val_loss: 0.3003\n",
      "Epoch 16/150\n",
      "122/122 [==============================] - 3s 22ms/step - loss: 0.2945 - val_loss: 0.2990\n",
      "Epoch 17/150\n",
      "122/122 [==============================] - 3s 23ms/step - loss: 0.2936 - val_loss: 0.2983\n",
      "122/122 [==============================] - 0s 3ms/step\n"
     ]
    },
    {
     "name": "stderr",
     "output_type": "stream",
     "text": [
      "/Users/visyn/.virtualenvs/hwenv/lib/python3.9/site-packages/sklearn/model_selection/_search.py:305: UserWarning: The total space of parameters 54 is smaller than n_iter=60. Running 54 iterations. For exhaustive searches, use GridSearchCV.\n",
      "  warnings.warn(\n"
     ]
    },
    {
     "name": "stdout",
     "output_type": "stream",
     "text": [
      "14/14 [==============================] - 0s 14ms/step\n",
      "Accuracy:  0.3958333333333333 Time:  114.54768991470337\n",
      "122/122 [==============================] - 1s 4ms/step\n"
     ]
    },
    {
     "name": "stderr",
     "output_type": "stream",
     "text": [
      "/Users/visyn/.virtualenvs/hwenv/lib/python3.9/site-packages/sklearn/model_selection/_search.py:305: UserWarning: The total space of parameters 54 is smaller than n_iter=60. Running 54 iterations. For exhaustive searches, use GridSearchCV.\n",
      "  warnings.warn(\n"
     ]
    },
    {
     "name": "stdout",
     "output_type": "stream",
     "text": [
      "14/14 [==============================] - 0s 19ms/step\n"
     ]
    },
    {
     "name": "stderr",
     "output_type": "stream",
     "text": [
      "100%|██████████| 3/3 [05:53<00:00, 117.69s/it]"
     ]
    },
    {
     "name": "stdout",
     "output_type": "stream",
     "text": [
      "Accuracy:  0.4537037037037037\n"
     ]
    },
    {
     "name": "stderr",
     "output_type": "stream",
     "text": [
      "\n"
     ]
    }
   ],
   "source": [
    "from sklearn.neighbors import KNeighborsClassifier\n",
    "from sklearn.model_selection import RandomizedSearchCV\n",
    "\n",
    "# Range of K values to test\n",
    "k_range=(np.linspace(0.001, 0.1, 3)*dre.dim).astype(np.int64)\n",
    "batch_size=32\n",
    "\n",
    "# Test the performance of the different dimensionality reduction methods\n",
    "accuracy_DAE_CNN=[]\n",
    "accuracy_DAE=[]\n",
    "time_DAE_CNN=[]\n",
    "\n",
    "x_train, x_test, y_train, y_test = dre.split_data(dre.X, dre.Y, test_size=0.1)\n",
    "x_train_flat=x_train.reshape(x_train.shape[0], -1)\n",
    "x_test_flat=x_test.reshape(x_test.shape[0], -1)\n",
    "\n",
    "# Create a KNN classifier\n",
    "params = {\n",
    "        \"n_neighbors\":\n",
    "        [i for i in range(1, int(np.sqrt(3)*IMG_SIZE))]\n",
    "}\n",
    "\n",
    "random_search = RandomizedSearchCV(\n",
    "    KNeighborsClassifier(),\n",
    "    param_distributions=params,\n",
    "    n_iter=60,\n",
    "    cv=5,\n",
    "    n_jobs=-1)\n",
    "histories=[]\n",
    "\n",
    "# Make 5 runs\n",
    "for i in range(1):\n",
    "\n",
    "    accuracy_DAE_CNN_=[]\n",
    "    time_DAE_CNN_=[]\n",
    "    accuracy_DAE_=[]\n",
    "    time_DAE_=[]\n",
    "\n",
    "    # Split the data into training and test sets\n",
    "    x_train, x_test, y_train, y_test = dre.split_data(dre.X, dre.Y, test_size=0.1)\n",
    "    x_train_flat=x_train.reshape(x_train.shape[0], -1)\n",
    "    x_test_flat=x_test.reshape(x_test.shape[0], -1) \n",
    "\n",
    "    # Fit the k-NN classifier to the training data\n",
    "    # random_search.fit(x_train_flat, y_train)\n",
    "    # baseline=random_search.score(x_test_flat, y_test)\n",
    "    # print('Baseline accuracy: ', baseline)\n",
    "\n",
    "    # Test the performance for different k values\n",
    "    for k in tqdm(k_range):\n",
    "        \n",
    "        # Create an instance of the DAE class\n",
    "        s_time=time.time()\n",
    "        dae_cnn=DAE_CNN(latent_dim=k, batch_size=batch_size,\n",
    "                         input_shape=(IMG_SIZE, IMG_SIZE, 3))\n",
    "\n",
    "        dae=DAE(latent_dim=k, batch_size=batch_size,\n",
    "                    input_dim=IMG_SIZE*IMG_SIZE*3)\n",
    "        \n",
    "        # Fit the DAE to the training data\n",
    "        History=dae_cnn.fit(x_train, y_train, epochs=150, verbose=1)\n",
    "        histories.append(History)\n",
    "        dae.fit(x_train_flat, y_train, epochs=150, verbose=1)\n",
    "\n",
    "        # Evaluate the performance of the DAE\n",
    "        time_DAE_CNN_.append(time.time()-s_time)\n",
    "        random_search.fit(dae_cnn.transform(x_train), y_train)\n",
    "        accuracy_DAE_CNN_.append(random_search.score(dae_cnn.transform(x_test), y_test))\n",
    "        print('Accuracy: ', accuracy_DAE_CNN_[-1]\n",
    "              , 'Time: ', time_DAE_CNN_[-1])\n",
    "        \n",
    "        random_search.fit(dae.transform(x_train_flat), y_train)\n",
    "        accuracy_DAE_.append(random_search.score(dae.transform(x_test_flat), y_test))\n",
    "        print('Accuracy: ', accuracy_DAE_[-1])\n",
    "\n",
    "    accuracy_DAE_CNN.append(accuracy_DAE_CNN_)\n",
    "    accuracy_DAE.append(accuracy_DAE_)\n",
    "    time_DAE_CNN.append(time_DAE_CNN_)\n",
    "\n",
    "accuracy_DAE_CNN=np.array(accuracy_DAE_CNN).transpose()\n",
    "accuracy_DAE=np.array(accuracy_DAE).transpose()\n",
    "\n",
    "time_DAE_CNN=np.array(time_DAE_CNN).transpose()\n"
   ]
  },
  {
   "cell_type": "code",
   "execution_count": 105,
   "metadata": {},
   "outputs": [
    {
     "data": {
      "text/plain": [
       "[<matplotlib.lines.Line2D at 0x40d1d3ac0>]"
      ]
     },
     "execution_count": 105,
     "metadata": {},
     "output_type": "execute_result"
    },
    {
     "data": {
      "image/png": "[encoded data removed]",
      "text/plain": [
       "<Figure size 640x480 with 1 Axes>"
      ]
     },
     "metadata": {},
     "output_type": "display_data"
    }
   ],
   "source": [
    "import matplotlib.pyplot as plt\n",
    "plt.plot(k_range, accuracy_DAE, 'o')\n",
    "plt.plot(k_range, accuracy_DAE_CNN, 'o')"
   ]
  },
  {
   "cell_type": "code",
   "execution_count": null,
   "metadata": {},
   "outputs": [],
   "source": [
    "model1=tf.keras.models.load_model('../models/CNN_model_1.h5')"
   ]
  },
  {
   "cell_type": "code",
   "execution_count": 232,
   "metadata": {},
   "outputs": [
    {
     "data": {
      "image/png": "[encoded data removed]",
      "text/plain": [
       "<Figure size 1000x1100 with 1 Axes>"
      ]
     },
     "metadata": {},
     "output_type": "display_data"
    }
   ],
   "source": [
    "import matplotlib.pyplot as plt\n",
    "plt.figure(figsize=(10,11))\n",
    "\n",
    "plt.plot(History.history['loss'], label='Train loss')\n",
    "plt.plot(History.history['val_loss'], label='Validation loss')\n",
    "\n",
    "plt.legend()\n",
    "plt.title('Model Loss')\n",
    "plt.ylabel('Loss')\n",
    "plt.xlabel('Epochs')\n",
    "plt.show()"
   ]
  },
  {
   "cell_type": "code",
   "execution_count": 107,
   "metadata": {},
   "outputs": [
    {
     "ename": "UnboundLocalError",
     "evalue": "local variable 'score' referenced before assignment",
     "output_type": "error",
     "traceback": [
      "\u001b[0;31m---------------------------------------------------------------------------\u001b[0m",
      "\u001b[0;31mUnboundLocalError\u001b[0m                         Traceback (most recent call last)",
      "Cell \u001b[0;32mIn[107], line 3\u001b[0m\n\u001b[1;32m      1\u001b[0m k_range\u001b[39m=\u001b[39m(np\u001b[39m.\u001b[39mlinspace(\u001b[39m0.001\u001b[39m, \u001b[39m0.1\u001b[39m, \u001b[39m3\u001b[39m)\u001b[39m*\u001b[39mdre\u001b[39m.\u001b[39mdim)\u001b[39m.\u001b[39mastype(np\u001b[39m.\u001b[39mint64)\n\u001b[1;32m      2\u001b[0m re\u001b[39m=\u001b[39mReductionAnalysis(dre\u001b[39m.\u001b[39mX, dre\u001b[39m.\u001b[39mY, k_range, batch_size\u001b[39m=\u001b[39m\u001b[39m32\u001b[39m)\n\u001b[0;32m----> 3\u001b[0m re\u001b[39m.\u001b[39;49mevaluate_k([\u001b[39m'\u001b[39;49m\u001b[39mPCA\u001b[39;49m\u001b[39m'\u001b[39;49m], k\u001b[39m=\u001b[39;49m\u001b[39m10\u001b[39;49m)\n",
      "File \u001b[0;32m~/Documents/education/UT/4_semester/STAT_ML/final/scripts/utils.py:459\u001b[0m, in \u001b[0;36mReductionAnalysis.evaluate_k\u001b[0;34m(self, method, k, verbose)\u001b[0m\n\u001b[1;32m    456\u001b[0m     \u001b[39mself\u001b[39m\u001b[39m.\u001b[39mrandom_search\u001b[39m.\u001b[39mfit(train_projections, \u001b[39mself\u001b[39m\u001b[39m.\u001b[39my_train)\n\u001b[1;32m    457\u001b[0m     score\u001b[39m=\u001b[39m\u001b[39mself\u001b[39m\u001b[39m.\u001b[39mrandom_search\u001b[39m.\u001b[39mscore(test_projections, \u001b[39mself\u001b[39m\u001b[39m.\u001b[39my_test)\n\u001b[0;32m--> 459\u001b[0m \u001b[39mreturn\u001b[39;00m {\u001b[39m'\u001b[39m\u001b[39mmethod\u001b[39m\u001b[39m'\u001b[39m: method, \u001b[39m'\u001b[39m\u001b[39mscore\u001b[39m\u001b[39m'\u001b[39m: score, \u001b[39m'\u001b[39m\u001b[39mtime\u001b[39m\u001b[39m'\u001b[39m: t_time, \u001b[39m'\u001b[39m\u001b[39mk\u001b[39m\u001b[39m'\u001b[39m: k}\n",
      "\u001b[0;31mUnboundLocalError\u001b[0m: local variable 'score' referenced before assignment"
     ]
    }
   ],
   "source": [
    "k_range=(np.linspace(0.001, 0.1, 3)*dre.dim).astype(np.int64)\n",
    "re=ReductionAnalysis(dre.X, dre.Y, k_range, batch_size=32)\n",
    "re.evaluate_k('PCA', k=10)"
   ]
  },
  {
   "cell_type": "code",
   "execution_count": null,
   "metadata": {},
   "outputs": [],
   "source": []
  }
 ],
 "metadata": {
  "kernelspec": {
   "display_name": "hwenv",
   "language": "python",
   "name": "python3"
  },
  "language_info": {
   "codemirror_mode": {
    "name": "ipython",
    "version": 3
   },
   "file_extension": ".py",
   "mimetype": "text/x-python",
   "name": "python",
   "nbconvert_exporter": "python",
   "pygments_lexer": "ipython3",
   "version": "3.9.6"
  },
  "orig_nbformat": 4
 },
 "nbformat": 4,
 "nbformat_minor": 2
}
